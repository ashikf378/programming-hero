{
  "nbformat": 4,
  "nbformat_minor": 0,
  "metadata": {
    "colab": {
      "provenance": []
    },
    "kernelspec": {
      "name": "python3",
      "display_name": "Python 3"
    },
    "language_info": {
      "name": "python"
    }
  },
  "cells": [
    {
      "cell_type": "markdown",
      "source": [
        ">13-1 OOP and Inheritance Module Recap"
      ],
      "metadata": {
        "id": "n0_VRynU1qPI"
      }
    },
    {
      "cell_type": "markdown",
      "source": [
        ">13-2 Principles of Object-Oriented Programming Abstract Class"
      ],
      "metadata": {
        "id": "YiO9EEzO5nka"
      }
    },
    {
      "cell_type": "code",
      "execution_count": 1,
      "metadata": {
        "id": "JPCIUdwD1YT-",
        "colab": {
          "base_uri": "https://localhost:8080/"
        },
        "outputId": "4a8a0c5f-499a-41e3-ccdb-5b9890a10f04"
      },
      "outputs": [
        {
          "output_type": "stream",
          "name": "stdout",
          "text": [
            "monkey is singing\n",
            "None\n",
            "monkey is eating\n",
            "None\n"
          ]
        }
      ],
      "source": [
        "from abc import ABC, abstractmethod\n",
        "\n",
        "class animal(ABC):\n",
        "  @abstractmethod\n",
        "  def eat(self):\n",
        "    pass\n",
        "  def name(self):\n",
        "    pass\n",
        "  def move(self):\n",
        "    pass\n",
        "class monkey(animal):\n",
        "  def sing(self ):\n",
        "    print(\"monkey is singing\")\n",
        "  def eat(self):\n",
        "    print(\"monkey is eating\")\n",
        "  def name(self):\n",
        "    print(\"monkey is monkey\")\n",
        "  def move(self):\n",
        "    print(\"monkey is moving\")\n",
        "    super().__init__move()\n",
        "class tiger(animal):\n",
        "  def eat(self):\n",
        "    print(\"tiger is eating\")\n",
        "  def name(self):\n",
        "    print(\"tiger is tiger\")\n",
        "  def move(self):\n",
        "    print(\"tiger is moving\")\n",
        "layka = monkey()\n",
        "\n",
        "print(layka.sing())\n",
        "print(layka.eat())\n",
        "\n"
      ]
    },
    {
      "cell_type": "markdown",
      "source": [
        ">13-3 Abastract Property And Abstraction Vs Interface"
      ],
      "metadata": {
        "id": "YWNYnscamkhx"
      }
    },
    {
      "cell_type": "markdown",
      "source": [
        ">13-4 Principles of Object-Oriented Programming Encapsulation\n",
        "\n",
        "\n"
      ],
      "metadata": {
        "id": "O5fj06J0nlb6"
      }
    },
    {
      "cell_type": "code",
      "source": [
        "class Account:\n",
        "    def __init__(self, name, balance, min_balance):\n",
        "        self.name = name\n",
        "        self.balance = balance\n",
        "        self.min_balance = min_balance\n",
        "\n",
        "    def deposit(self, amount):\n",
        "        self.balance += amount\n",
        "\n",
        "    def withdraw(self, amount):\n",
        "        if self.balance - amount >= self.min_balance:\n",
        "            self.balance -= amount\n",
        "        else:\n",
        "            print(\"Withdrawal denied! Balance cannot go below the minimum balance.\")\n",
        "\n",
        "class Student_account(Account):\n",
        "    def __init__(self, name, balance, school):\n",
        "        self.school = school\n",
        "        # Call the parent class constructor with name, balance, and min_balance\n",
        "        super().__init__(name, balance, min_balance=0)  # Student accounts usually have a min_balance of 0\n",
        "\n",
        "rafsan = Student_account('rafsan', 50000, 'IUB')\n",
        "print(rafsan.balance)\n",
        "rafsan.deposit(5000)\n",
        "# rafsan.balance=0\n",
        "print(rafsan.balance)\n",
        "rafsan.withdraw(6000)\n",
        "print(rafsan.balance)"
      ],
      "metadata": {
        "colab": {
          "base_uri": "https://localhost:8080/"
        },
        "id": "EOuS90B6mkKA",
        "outputId": "fb9b9f56-e2ec-4bf4-e70e-f75a15064ad4"
      },
      "execution_count": 2,
      "outputs": [
        {
          "output_type": "stream",
          "name": "stdout",
          "text": [
            "50000\n",
            "55000\n",
            "49000\n"
          ]
        }
      ]
    },
    {
      "cell_type": "code",
      "source": [
        "class Account:\n",
        "    def __init__(self, name, balance, min_balance):\n",
        "        self.name = name\n",
        "        self.balance = balance\n",
        "        self.min_balance = min_balance\n",
        "\n",
        "    def deposit(self, amount):\n",
        "        self.balance += amount\n",
        "\n",
        "    def withdraw(self, amount):\n",
        "        if self.balance - amount >= self.min_balance:\n",
        "            self.balance -= amount\n",
        "        else:\n",
        "            print(\"Withdrawal denied! Balance cannot go below the minimum balance.\")\n",
        "\n",
        "class Student_account(Account):\n",
        "    def __init__(self, name, balance, school):\n",
        "        self.school = school\n",
        "        # Call the parent class constructor with name, balance, and min_balance\n",
        "        super().__init__(name, balance, min_balance=0)  # Student accounts usually have a min_balance of 0\n",
        "\n",
        "rafsan = Student_account('rafsan', 50000, 'IUB')\n",
        "print(rafsan.balance)\n",
        "rafsan.deposit(5000)\n",
        "# rafsan.balance=0\n",
        "print(rafsan.balance)\n",
        "rafsan.withdraw(6000)\n",
        "print(rafsan.balance)"
      ],
      "metadata": {
        "id": "J3Lov-496hka",
        "colab": {
          "base_uri": "https://localhost:8080/"
        },
        "outputId": "6ea9e838-e624-4d88-e0f2-13e7eea6ef6c"
      },
      "execution_count": 3,
      "outputs": [
        {
          "output_type": "stream",
          "name": "stdout",
          "text": [
            "50000\n",
            "55000\n",
            "49000\n"
          ]
        }
      ]
    },
    {
      "cell_type": "code",
      "source": [
        "class Account:\n",
        "    def __init__(self, name, balance, min_balance):\n",
        "        self.name = name\n",
        "        self.__balance = balance\n",
        "        self.min_balance = min_balance\n",
        "\n",
        "    def deposit(self, amount):\n",
        "        self.__balance += amount\n",
        "\n",
        "    def withdraw(self, amount):\n",
        "        self.__balance -= amount\n",
        "\n",
        "    def get_balance(self):\n",
        "        return self.__balance\n",
        "\n",
        "    def __repr__(self):\n",
        "        return f'Account({self.name}, {self.__balance}, {self.min_balance})'\n",
        "\n",
        "\n",
        "class Student_account(Account):\n",
        "    def __init__(self, name, balance, school):\n",
        "        self.school = school\n",
        "        # Call the parent class constructor with name, balance, and min_balance\n",
        "        super().__init__(name, balance, min_balance=0)  # Student accounts usually have a min_balance of 0\n",
        "\n",
        "\n",
        "rafsan = Student_account('rafsan', 50000, 'IUB')\n",
        "rafsan.deposit(5000)\n",
        "rafsan.withdraw(6000)\n",
        "\n",
        "# Print the balance after operations\n",
        "print(rafsan.get_balance())  # Should print the updated balance after deposit and withdrawal\n"
      ],
      "metadata": {
        "colab": {
          "base_uri": "https://localhost:8080/"
        },
        "id": "D6ML8vKu1-jT",
        "outputId": "1724e24e-060b-4740-8a86-c137155a9a0e"
      },
      "execution_count": 4,
      "outputs": [
        {
          "output_type": "stream",
          "name": "stdout",
          "text": [
            "49000\n"
          ]
        }
      ]
    },
    {
      "cell_type": "code",
      "source": [
        "class Account:\n",
        "    def __init__(self, name, balance, min_balance):\n",
        "        self.name = name\n",
        "        self.__balance = balance\n",
        "        self.min_balance = min_balance\n",
        "\n",
        "    def deposit(self, amount):\n",
        "        print(amount)\n",
        "        self.__balance += amount\n",
        "\n",
        "    def withdraw(self, amount):\n",
        "        self.__balance -= amount\n",
        "        print(amount)\n",
        "\n",
        "\n",
        "\n",
        "class Student_account(Account):\n",
        "    def __init__(self, name, balance, school):\n",
        "        self.school = school\n",
        "        # Call the parent class constructor with name, balance, and min_balance\n",
        "        super().__init__(name, balance, min_balance=0)  # Student accounts usually have a min_balance of 0\n",
        "\n",
        "\n",
        "rafsan = Student_account('rafsan', 50000, 'IUB')\n",
        "rafsan.deposit(5000)\n",
        "rafsan.withdraw(6000)\n",
        "\n",
        "# Print the balance after operations\n",
        "# print(rafsan.get_balance())  # Should print the updated balance after deposit and withdrawal\n"
      ],
      "metadata": {
        "colab": {
          "base_uri": "https://localhost:8080/"
        },
        "id": "gu4R_rtw3jxL",
        "outputId": "66dad3c3-87b4-4e7d-f215-0a236bb1d6b2"
      },
      "execution_count": 5,
      "outputs": [
        {
          "output_type": "stream",
          "name": "stdout",
          "text": [
            "5000\n",
            "6000\n"
          ]
        }
      ]
    },
    {
      "cell_type": "code",
      "source": [
        "#private protected\n",
        "class Account:\n",
        "  pass\n",
        "class StudentAccount(Account):\n",
        "  def __init__(self,holder,balance,school):\n",
        "    self.holder = holder\n",
        "    self.__balance = balance\n",
        "    self.schoo = school\n",
        "\n",
        "  def Withdrawal(self,amount):\n",
        "    if  amount > self.__balance:\n",
        "      print(\"insufficient balance\")\n",
        "      self.__balance -= amount\n",
        "\n",
        "  def deposit(self,amount):\n",
        "    if amount <0:\n",
        "      return \"invalid amount\"\n",
        "    self.__balance += amount\n",
        "  def get_balance(self):\n",
        "    return self.__balance\n",
        "\n",
        "nas = StudentAccount('nas',50000,'nas_academy')\n",
        "print(nas.holder)\n",
        "print(nas.get_balance())\n",
        "nas.deposit(5000)\n",
        "print(nas.get_balance())\n",
        "nas.Withdrawal(6000)\n",
        "print(nas.get_balance())\n",
        "\n"
      ],
      "metadata": {
        "colab": {
          "base_uri": "https://localhost:8080/"
        },
        "id": "crGzCf5-7oD6",
        "outputId": "734f834a-85e2-4e55-b885-17c8d1bf0403"
      },
      "execution_count": 6,
      "outputs": [
        {
          "output_type": "stream",
          "name": "stdout",
          "text": [
            "nas\n",
            "50000\n",
            "55000\n",
            "55000\n"
          ]
        }
      ]
    },
    {
      "cell_type": "code",
      "source": [
        "class Account:\n",
        "  def __init__(self,holder):\n",
        "    self.holder = holder\n",
        "class StudentAccount(Account):\n",
        "  def __init__(self,holder,balance,school):\n",
        "    self.holder = holder\n",
        "    self.__balance = balance\n",
        "    self.schoo = school\n",
        "\n",
        "  def Withdrawal(self,amount):\n",
        "    if  amount > self.__balance:\n",
        "      print(\"insufficient balance\")\n",
        "      self.__balance -= amount\n",
        "\n",
        "  def deposit(self,amount):\n",
        "    if amount <0:\n",
        "      return \"invalid amount\"\n",
        "    self.__balance += amount\n",
        "  def get_balance(self):\n",
        "    return self.__balance\n",
        "\n",
        "nas = StudentAccount('nas',50000,'nas_academy')\n",
        "print(nas.holder)\n",
        "print(nas.get_balance())\n",
        "nas.deposit(5000)\n",
        "print(nas.get_balance())\n",
        "nas.Withdrawal(6000)\n",
        "print(nas.get_balance())"
      ],
      "metadata": {
        "id": "bws-LqK3Dl3Y",
        "outputId": "ef3e2363-fe72-407f-b800-9735156cc3fc",
        "colab": {
          "base_uri": "https://localhost:8080/"
        }
      },
      "execution_count": 7,
      "outputs": [
        {
          "output_type": "stream",
          "name": "stdout",
          "text": [
            "nas\n",
            "50000\n",
            "55000\n",
            "55000\n"
          ]
        }
      ]
    },
    {
      "cell_type": "markdown",
      "source": [
        ">13-6 Principles Of Object-Oriented Programming Polymorphism"
      ],
      "metadata": {
        "id": "jh1KtvLALJjP"
      }
    },
    {
      "cell_type": "code",
      "source": [
        "class Animal:\n",
        "  def __init__(self,name):\n",
        "    self.name = name\n",
        "  def make_sound(self):\n",
        "    print(\"animal is making sound\")\n",
        "\n",
        "\n",
        "\n",
        "class cat(Animal):\n",
        "  def __init__(self,name):\n",
        "    super().__init__(name)\n",
        "  # def make_sound(self):\n",
        "  #   print(\"cat is meowing\")\n",
        "\n",
        "\n",
        "don =cat(\"ashik\")\n",
        "don.make_sound()"
      ],
      "metadata": {
        "colab": {
          "base_uri": "https://localhost:8080/"
        },
        "id": "A3_xWepxLLy-",
        "outputId": "0a9dc550-9885-41cd-f098-f74ef544b245"
      },
      "execution_count": 8,
      "outputs": [
        {
          "output_type": "stream",
          "name": "stdout",
          "text": [
            "animal is making sound\n"
          ]
        }
      ]
    },
    {
      "cell_type": "code",
      "source": [
        "class Animal:\n",
        "  def __init__(self,name):\n",
        "    self.name = name\n",
        "  def make_sound(self):\n",
        "    print(\"animal is making sound\")\n",
        "\n",
        "\n",
        "\n",
        "class cat(Animal):\n",
        "  def __init__(self,name):\n",
        "    super().__init__(name)\n",
        "  def make_sound(self):\n",
        "    print(\"cat is meowing\")\n",
        "class Dog(Animal):\n",
        "  def __init__(self,name):\n",
        "    super().__init__(name)\n",
        "  def make_sound(self):\n",
        "    print(\"dog is barking\")\n",
        "class Horse(Animal):\n",
        "  def __init__(self,name):\n",
        "    super().__init__(name)\n",
        "  def make_sound(self):\n",
        "    print(\"horse is neighing\")\n",
        "\n",
        "don =cat(\"ashik\")\n",
        "Separd=Dog(\"ashik\")\n",
        "# don.make_sound()\n",
        "broke= Horse(\"ashik\")\n",
        "# broke.make_sound()\n",
        "# Separd.make_sound()\n",
        "\n",
        "\n",
        "\n",
        "animals = [don,Separd,broke]\n",
        "for animal in animals:\n",
        "  animal.make_sound()"
      ],
      "metadata": {
        "colab": {
          "base_uri": "https://localhost:8080/"
        },
        "id": "-UTDNiefMfh2",
        "outputId": "3e1c6dde-a3e8-4293-c30b-d808bca6c29f"
      },
      "execution_count": 9,
      "outputs": [
        {
          "output_type": "stream",
          "name": "stdout",
          "text": [
            "cat is meowing\n",
            "dog is barking\n",
            "horse is neighing\n"
          ]
        }
      ]
    }
  ]
}