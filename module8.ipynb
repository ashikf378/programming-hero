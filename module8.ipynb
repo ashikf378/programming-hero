{
  "nbformat": 4,
  "nbformat_minor": 0,
  "metadata": {
    "colab": {
      "provenance": []
    },
    "kernelspec": {
      "name": "python3",
      "display_name": "Python 3"
    },
    "language_info": {
      "name": "python"
    }
  },
  "cells": [
    {
      "cell_type": "markdown",
      "source": [
        ">OOP & Python Programming and Problem Solving Part - IV"
      ],
      "metadata": {
        "id": "rjN7mqA1pwJR"
      }
    },
    {
      "cell_type": "markdown",
      "source": [
        ">8-1 Introduction to class and attributes"
      ],
      "metadata": {
        "id": "RxMH-4iLtyDm"
      }
    },
    {
      "cell_type": "code",
      "execution_count": 16,
      "metadata": {
        "colab": {
          "base_uri": "https://localhost:8080/"
        },
        "id": "G33woaGyppGX",
        "outputId": "37af9b3a-5d9d-4af8-ce5a-bef31fcc3a82"
      },
      "outputs": [
        {
          "output_type": "stream",
          "name": "stdout",
          "text": [
            "<__main__.phone object at 0x7f634a01c9d0>\n"
          ]
        }
      ],
      "source": [
        "class phone:\n",
        "  brand= \"iphone\"\n",
        "  color = \"Black\"\n",
        "  price = 60000\n",
        "\n",
        "\n",
        "my_phone = phone()\n",
        "print(my_phone)"
      ]
    },
    {
      "cell_type": "code",
      "source": [
        "class phone:\n",
        "  brand= \"iphone\"\n",
        "  color = \"Black\"\n",
        "  price = 60000\n",
        "\n",
        "\n",
        "my_phone = phone()\n",
        "print(my_phone.brand)\n",
        "print(my_phone.color)\n",
        "print(my_phone.price)\n",
        "\n",
        "\n"
      ],
      "metadata": {
        "colab": {
          "base_uri": "https://localhost:8080/"
        },
        "id": "8Qhy-MEGua3J",
        "outputId": "d5adb25c-606e-4002-de46-9b0ccc3d45e8"
      },
      "execution_count": 17,
      "outputs": [
        {
          "output_type": "stream",
          "name": "stdout",
          "text": [
            "iphone\n",
            "Black\n",
            "60000\n"
          ]
        }
      ]
    },
    {
      "cell_type": "code",
      "source": [
        "class phone:\n",
        "  brand= \"iphone\"\n",
        "  color = \"Black\"\n",
        "  price = 60000\n",
        "\n",
        "\n",
        "my_phone = phone()\n",
        "print(my_phone.brand)\n",
        "print(my_phone.color)\n",
        "print(my_phone.price)\n",
        "\n",
        "her_phone = phone()\n",
        "print(her_phone.brand)\n",
        "print(her_phone.color)\n",
        "print(her_phone.price)\n"
      ],
      "metadata": {
        "colab": {
          "base_uri": "https://localhost:8080/"
        },
        "id": "3jhIRRwNu33w",
        "outputId": "6a5931f5-cd0b-4f88-f77f-e2ab8f5f85df"
      },
      "execution_count": 18,
      "outputs": [
        {
          "output_type": "stream",
          "name": "stdout",
          "text": [
            "iphone\n",
            "Black\n",
            "60000\n",
            "iphone\n",
            "Black\n",
            "60000\n"
          ]
        }
      ]
    },
    {
      "cell_type": "markdown",
      "source": [
        ">8-2 Add methods to your class"
      ],
      "metadata": {
        "id": "o-Itv0ukvNSE"
      }
    },
    {
      "cell_type": "code",
      "source": [
        "def add(a,b):\n",
        "  sum=a+b\n",
        "  return sum\n",
        "def deduct(a,b):\n",
        "  sub=a-b\n",
        "  return sub\n",
        "\n",
        "class phone:\n",
        "  color=\"blace\"\n",
        "  feature=[\"high_class\",\"water resistance \",\"can be use as hammer\"]\n",
        "  def call(self):\n",
        "    print(\"Ring Ring Ring\")\n",
        "myphone=phone()\n",
        "myphone.call()"
      ],
      "metadata": {
        "colab": {
          "base_uri": "https://localhost:8080/"
        },
        "id": "JLeUFX1_vOFv",
        "outputId": "30c2a294-c2ce-4c9c-d1dc-3426b1fd8da5"
      },
      "execution_count": 19,
      "outputs": [
        {
          "output_type": "stream",
          "name": "stdout",
          "text": [
            "Ring Ring Ring\n"
          ]
        }
      ]
    },
    {
      "cell_type": "code",
      "source": [
        "def berfore(*args,**norm):\n",
        "  print(norm)\n",
        "  for i in args:\n",
        "    print(i)\n",
        "\n",
        "berfore(1,2,3,4,5,color='black')"
      ],
      "metadata": {
        "colab": {
          "base_uri": "https://localhost:8080/"
        },
        "id": "7ssLWT9VvzIb",
        "outputId": "40db6dca-06d2-4dc4-e060-b255e3253d59"
      },
      "execution_count": 20,
      "outputs": [
        {
          "output_type": "stream",
          "name": "stdout",
          "text": [
            "{'color': 'black'}\n",
            "1\n",
            "2\n",
            "3\n",
            "4\n",
            "5\n"
          ]
        }
      ]
    },
    {
      "cell_type": "code",
      "source": [
        "class phone:\n",
        "  color=\"black\"\n",
        "  feature=[\"high_class\",\"water resistance \",\"can be use as hammer\"]\n",
        "  def call(self):\n",
        "    print(\"Ring Ring Ring\")\n",
        "\n",
        "  def send_sms(self,number,sms):\n",
        "    text=f'send me text {sms} to{number}'\n",
        "    return text\n",
        "myphone=phone()\n",
        "myphone.call()\n",
        "print(myphone.color)\n",
        "print(myphone.feature)\n",
        "new=myphone.send_sms(123456789,'hello')\n",
        "print(new)"
      ],
      "metadata": {
        "colab": {
          "base_uri": "https://localhost:8080/"
        },
        "id": "nHB7hKejd5nj",
        "outputId": "6e013663-677f-43a3-d59e-4accf5e57109"
      },
      "execution_count": 21,
      "outputs": [
        {
          "output_type": "stream",
          "name": "stdout",
          "text": [
            "Ring Ring Ring\n",
            "black\n",
            "['high_class', 'water resistance ', 'can be use as hammer']\n",
            "send me text hello to123456789\n"
          ]
        }
      ]
    },
    {
      "cell_type": "code",
      "source": [
        "class calculator:\n",
        "  def add():\n",
        "    pass\n",
        "  def sub():\n",
        "    pass\n",
        "  def mul():\n",
        "    pass\n",
        "  def div():\n",
        "    pass"
      ],
      "metadata": {
        "id": "QvVqaRfXiY9l"
      },
      "execution_count": 22,
      "outputs": []
    },
    {
      "cell_type": "markdown",
      "source": [
        ">8-3 Class constructor and init method"
      ],
      "metadata": {
        "id": "AsHTX_bGkujm"
      }
    },
    {
      "cell_type": "code",
      "source": [
        "class phone:\n",
        "  color=\"black\"\n",
        "  feature=[\"high_class\",\"water resistance \",\"can be use as hammer\"]\n",
        "  camera = 12\n",
        "  battery=3600\n",
        "  device_name=\"iphone\"\n",
        "  display =\"oled:\"\n",
        "\n",
        "\n",
        "my_phone=phone()\n",
        "print(my_phone.color)\n",
        "dad_phone=phone()\n",
        "print(dad_phone.color)\n",
        "ashik_phone=phone()\n",
        "print(ashik_phone.color)\n",
        "print(ashik_phone.camera)\n",
        "print(ashik_phone.battery)\n",
        "print(ashik_phone.device_name)\n",
        "print(ashik_phone.display)"
      ],
      "metadata": {
        "colab": {
          "base_uri": "https://localhost:8080/"
        },
        "id": "P0R0BiqmkwI_",
        "outputId": "24edd5b0-397d-409c-a34f-884dd7cb4cb5"
      },
      "execution_count": 23,
      "outputs": [
        {
          "output_type": "stream",
          "name": "stdout",
          "text": [
            "black\n",
            "black\n",
            "black\n",
            "12\n",
            "3600\n",
            "iphone\n",
            "oled:\n"
          ]
        }
      ]
    },
    {
      "cell_type": "code",
      "source": [
        "class phone:\n",
        "  def __init__(self,color,featue,camera,battery,device_name,display):\n",
        "    self.color=color\n",
        "    self.feature=featue\n",
        "    self.camera=camera\n",
        "    self.battery=battery\n",
        "    self.device_name=device_name\n",
        "    self.display=display\n",
        "\n",
        "myphone=phone(\"black\",\"high_class\",12,3600,\"iphone\",\"oled\")\n",
        "print(myphone.color)\n",
        "print(myphone.feature)\n",
        "print(myphone.camera)\n",
        "print(myphone.battery)\n",
        "print(myphone.device_name)\n",
        "print(myphone.display)\n",
        "\n",
        "\n",
        "DAD =phone(\"yellow\",\"middle class\",12344,1660,'xiaomi','oled')\n",
        "print(DAD.color)\n",
        "print(DAD.feature)\n",
        "print(DAD.camera)\n",
        "print(DAD.battery)\n",
        "print(DAD.device_name)\n",
        "print(DAD.display)"
      ],
      "metadata": {
        "colab": {
          "base_uri": "https://localhost:8080/"
        },
        "id": "jnaloRw_lvM6",
        "outputId": "261c8a83-86cc-408c-e8bd-c1535a9d45b3"
      },
      "execution_count": 24,
      "outputs": [
        {
          "output_type": "stream",
          "name": "stdout",
          "text": [
            "black\n",
            "high_class\n",
            "12\n",
            "3600\n",
            "iphone\n",
            "oled\n",
            "yellow\n",
            "middle class\n",
            "12344\n",
            "1660\n",
            "xiaomi\n",
            "oled\n"
          ]
        }
      ]
    },
    {
      "cell_type": "code",
      "source": [
        "class phone:\n",
        "  def __init__(self,color,featue,camera,battery,device_name,display):\n",
        "    self.color=color\n",
        "    self.feature=featue\n",
        "    self.camera=camera\n",
        "    self.battery=battery\n",
        "    self.device_name=device_name\n",
        "    self.display=display\n",
        "\n",
        "  def sms(self,number,sms):\n",
        "    text=f'send me text {sms} to{number}'\n",
        "    return text\n",
        "myphone=phone(\"black\",\"high_class\",12,3600,\"iphone\",\"oled\")\n",
        "print(myphone.color)\n",
        "print(myphone.feature)\n",
        "\n",
        "tp=myphone.sms(123456789,'hello')\n",
        "print(tp)\n"
      ],
      "metadata": {
        "colab": {
          "base_uri": "https://localhost:8080/"
        },
        "id": "7COdQyl5m-eL",
        "outputId": "66ffa62d-5649-4833-b4fe-19a89b14296b"
      },
      "execution_count": 25,
      "outputs": [
        {
          "output_type": "stream",
          "name": "stdout",
          "text": [
            "black\n",
            "high_class\n",
            "send me text hello to123456789\n"
          ]
        }
      ]
    },
    {
      "cell_type": "markdown",
      "source": [
        ">8-4 Static, class attribute, instance attribute, __dict__"
      ],
      "metadata": {
        "id": "RrfSe72vp_vB"
      }
    },
    {
      "cell_type": "code",
      "source": [
        "class Shope:\n",
        "    cart = []\n",
        "\n",
        "    def __init__(self, buyer):\n",
        "        self.buyer = buyer\n",
        "\n",
        "    def add_to_cart(self, product):\n",
        "        self.cart.append(product)\n",
        "\n",
        "        # Return the cart if you want to see the updated cart\n",
        "\n",
        "# Create an instance of Shope with the buyer's name\n",
        "my_purchase = Shope(\"alu khan\")\n",
        "\n",
        "# Add products to the cart\n",
        "my_purchase.add_to_cart('mobile')\n",
        "print(my_purchase.cart)\n",
        "print(my_purchase.buyer)\n",
        "\n",
        "\n",
        "# Print the cart contents\n",
        "my_purchase.add_to_cart('laptop')\n",
        "print(my_purchase.cart)\n"
      ],
      "metadata": {
        "colab": {
          "base_uri": "https://localhost:8080/"
        },
        "id": "qM-fs0nIn_1C",
        "outputId": "9d86f89f-e8f1-44c1-9b18-d8bc9d69ed56"
      },
      "execution_count": 26,
      "outputs": [
        {
          "output_type": "stream",
          "name": "stdout",
          "text": [
            "['mobile']\n",
            "alu khan\n",
            "['mobile', 'laptop']\n"
          ]
        }
      ]
    },
    {
      "cell_type": "code",
      "source": [
        "class laptop:\n",
        "  def __init__(self,brand,age,last_age):\n",
        "    self.brand=brand\n",
        "    self.age=age\n",
        "    self.last_age=last_age\n",
        "  def increase_age(self,brand,last_age,age):\n",
        "    self.last_age=last_age\n",
        "    self.age= age\n",
        "\n",
        "  def repair(self,life_repair):\n",
        "    self.life_repair=life_repair\n",
        "\n",
        "\n",
        "\n",
        "my_laptop=laptop('hp',12,25)\n",
        "print(my_laptop.brand)\n",
        "print(my_laptop.age)\n",
        "my_laptop.increase_age(\"lanavo\",32,12)\n",
        "print(my_laptop.age)\n",
        "my_laptop.age=17\n",
        "print(my_laptop.age)\n",
        "print(my_laptop.last_age)\n",
        "my_laptop.repair(12)\n",
        "print(my_laptop.life_repair)\n"
      ],
      "metadata": {
        "id": "6XmaZYMKro6x",
        "colab": {
          "base_uri": "https://localhost:8080/"
        },
        "outputId": "43cc92cc-126a-431d-bbe4-fb783cb9df5a"
      },
      "execution_count": 27,
      "outputs": [
        {
          "output_type": "stream",
          "name": "stdout",
          "text": [
            "hp\n",
            "12\n",
            "12\n",
            "17\n",
            "32\n",
            "12\n"
          ]
        }
      ]
    },
    {
      "cell_type": "code",
      "source": [
        "class laptop:\n",
        "  go=\"hi there\"\n",
        "  print(go)\n",
        "  def __init__(self,brand,age,last_age):\n",
        "    self.brand=brand\n",
        "    self.age=age\n",
        "    self.last_age=last_age\n",
        "\n",
        "  def increase_age(self):\n",
        "    self.last_age=self.last_age\n",
        "    self.age= self.age\n",
        "\n",
        "  def repair(self,life_repair):\n",
        "    self.life_repair=life_repair\n",
        "\n",
        "\n",
        "my_laptop=laptop('hp',12,25)\n",
        "print(laptop)\n",
        "print(my_laptop.brand)\n",
        "print(my_laptop.age)\n",
        "print(my_laptop.last_age)\n",
        "\n",
        "\n",
        "\n",
        "my_laptop.increase_age()\n",
        "my_laptop.age=17\n",
        "print(my_laptop.age)\n",
        "\n",
        "my_laptop.repair(\"naver happen!\")\n",
        "print(my_laptop.life_repair)\n"
      ],
      "metadata": {
        "id": "tfSDS8hbJP6_",
        "colab": {
          "base_uri": "https://localhost:8080/"
        },
        "outputId": "8680d860-9369-4513-a67e-adee8bd3e4f0"
      },
      "execution_count": 28,
      "outputs": [
        {
          "output_type": "stream",
          "name": "stdout",
          "text": [
            "hi there\n",
            "<class '__main__.laptop'>\n",
            "hp\n",
            "12\n",
            "25\n",
            "17\n",
            "naver happen!\n"
          ]
        }
      ]
    },
    {
      "cell_type": "code",
      "source": [
        "class Go:\n",
        "    def __init__(self, model, color, price):\n",
        "        self.model = model\n",
        "        self.color = color\n",
        "        self.price = price\n",
        "\n",
        "    def other(self):\n",
        "        self.feature = None\n",
        "        self.camera = None\n",
        "\n",
        "    def extra(self, model, color, price):\n",
        "        self.model = model\n",
        "        self.color = color\n",
        "        self.price = price\n",
        "\n",
        "    def intro(self):\n",
        "        self.revolution = None\n",
        "        self.ios = None\n",
        "\n",
        "\n",
        "# Creating an object of the Go class\n",
        "nope = Go(\"samsung\", \"black\", 12000)\n",
        "\n",
        "# Accessing attributes\n",
        "print(nope.model)  # Output: samsung\n",
        "print(nope.color)  # Output: black\n",
        "print(nope.price)  # Output: 12000\n",
        "\n",
        "# Setting feature and camera using the other method\n",
        "nope.other()\n",
        "nope.feature = [\"high_class\", \"water resistance\", \"can be used as a hammer\"]\n",
        "nope.camera = 12\n",
        "\n",
        "print(nope.feature)  # Output: ['high_class', 'water resistance', 'can be used as a hammer']\n",
        "print(nope.camera)   # Output: 12\n"
      ],
      "metadata": {
        "colab": {
          "base_uri": "https://localhost:8080/"
        },
        "id": "H6T2ycgq2qNA",
        "outputId": "e61dd165-146d-4e03-8091-3a1253cab3aa"
      },
      "execution_count": 29,
      "outputs": [
        {
          "output_type": "stream",
          "name": "stdout",
          "text": [
            "samsung\n",
            "black\n",
            "12000\n",
            "['high_class', 'water resistance', 'can be used as a hammer']\n",
            "12\n"
          ]
        }
      ]
    },
    {
      "cell_type": "markdown",
      "source": [
        ">8-5 Explore Bank withdraw deposit and balance using class."
      ],
      "metadata": {
        "id": "qBdpEUtSCwsz"
      }
    },
    {
      "cell_type": "code",
      "source": [
        "class Bank:\n",
        "  def __init__(self,name,balance):\n",
        "    self.name=name\n",
        "    self.balance=balance\n",
        "    self.minimum_withdraw=100\n",
        "    self.maximum_withdraw=1000\n",
        "\n",
        "\n",
        "  def balance(self):\n",
        "    return self.balance\n",
        "\n",
        "  def withdraw(self,amount):\n",
        "    if amount > self.minimum_withdraw:\n",
        "     return \"no money for you\"\n",
        "\n",
        "    elif amount>self.maximum_withdraw:\n",
        "     return f\"you cross the max limit : {self.max_withdraw}\"\n",
        "    elif amount>self.balamce:\n",
        "     return f'you are broke {self.amount}'\n",
        "\n",
        "    else:\n",
        "      balance=self.balance-self.amount\n",
        "      return f\"here is you money{self.ballance}\"\n",
        "  def deposit(self,amount):\n",
        "    balance=self.balance+amount\n",
        "    return balance\n",
        "\n",
        "my_bank=Bank(\"ashik\",1000)\n",
        "print(my_bank.name)\n",
        "print(my_bank.balance)\n",
        "print(my_bank.minimum_withdraw)\n",
        "print(my_bank.maximum_withdraw)\n",
        "\n",
        "\n",
        "reply=my_bank.balance()\n",
        "print(reply)"
      ],
      "metadata": {
        "colab": {
          "base_uri": "https://localhost:8080/",
          "height": 277
        },
        "id": "qD6KzhFxCzY_",
        "outputId": "d6335577-d913-4d5d-9951-2063927c3c07"
      },
      "execution_count": 31,
      "outputs": [
        {
          "output_type": "stream",
          "name": "stdout",
          "text": [
            "ashik\n",
            "1000\n",
            "100\n",
            "1000\n"
          ]
        },
        {
          "output_type": "error",
          "ename": "TypeError",
          "evalue": "'int' object is not callable",
          "traceback": [
            "\u001b[0;31m---------------------------------------------------------------------------\u001b[0m",
            "\u001b[0;31mTypeError\u001b[0m                                 Traceback (most recent call last)",
            "\u001b[0;32m<ipython-input-31-9307a26cbcbf>\u001b[0m in \u001b[0;36m<cell line: 35>\u001b[0;34m()\u001b[0m\n\u001b[1;32m     33\u001b[0m \u001b[0;34m\u001b[0m\u001b[0m\n\u001b[1;32m     34\u001b[0m \u001b[0;34m\u001b[0m\u001b[0m\n\u001b[0;32m---> 35\u001b[0;31m \u001b[0mreply\u001b[0m\u001b[0;34m=\u001b[0m\u001b[0mmy_bank\u001b[0m\u001b[0;34m.\u001b[0m\u001b[0mbalance\u001b[0m\u001b[0;34m(\u001b[0m\u001b[0;34m)\u001b[0m\u001b[0;34m\u001b[0m\u001b[0;34m\u001b[0m\u001b[0m\n\u001b[0m\u001b[1;32m     36\u001b[0m \u001b[0mprint\u001b[0m\u001b[0;34m(\u001b[0m\u001b[0mreply\u001b[0m\u001b[0;34m)\u001b[0m\u001b[0;34m\u001b[0m\u001b[0;34m\u001b[0m\u001b[0m\n",
            "\u001b[0;31mTypeError\u001b[0m: 'int' object is not callable"
          ]
        }
      ]
    },
    {
      "cell_type": "code",
      "source": [
        "class Bank:\n",
        "    def __init__(self, name, balance):\n",
        "        self.name = name\n",
        "        self.balance = balance\n",
        "        self.minimum_withdraw = 100\n",
        "        self.maximum_withdraw = 1500\n",
        "\n",
        "    def get_balance(self):\n",
        "        return self.balance\n",
        "\n",
        "    def withdraw(self, amount):\n",
        "        if  amount < self.minimum_withdraw:\n",
        "            return \"no money for you.\"\n",
        "        elif amount > self.maximum_withdraw:\n",
        "            return f\"You cannot withdraw more than the maximum limit: {self.maximum_withdraw}\"\n",
        "        elif amount > self.balance:\n",
        "            return f\"Insufficient funds. Your balance is only {self.balance}.\"\n",
        "        else:\n",
        "            self.balance=self.balance-amount\n",
        "            return f\"Withdrawal successful! Your new balance is {self.balance}.\"\n",
        "\n",
        "    def deposit(self, amount):\n",
        "        self.balance += amount\n",
        "        return f\"here is your money {self.balance}.\"\n",
        "\n",
        "\n",
        "# Create a Bank object\n",
        "my_bank = Bank(\"Ashik\", 1000)\n",
        "\n",
        "# Access attributes\n",
        "\n",
        "# Access the balance using the get_balance method\n",
        "reply = my_bank.withdraw(700)\n",
        "print(reply)  # Output: 1000\n",
        "\n",
        "# Test withdrawal\n"
      ],
      "metadata": {
        "colab": {
          "base_uri": "https://localhost:8080/"
        },
        "id": "yn1cGAyrGHRZ",
        "outputId": "b28bd9d0-fdcf-473f-d772-0ee6d79225df"
      },
      "execution_count": 32,
      "outputs": [
        {
          "output_type": "stream",
          "name": "stdout",
          "text": [
            "Withdrawal successful! Your new balance is 300.\n"
          ]
        }
      ]
    },
    {
      "cell_type": "markdown",
      "source": [
        ">8-6 Shopping checkout and price calculations"
      ],
      "metadata": {
        "id": "PxeLrKJOKKKL"
      }
    },
    {
      "cell_type": "code",
      "source": [
        "class Shopper:\n",
        "    def __init__(self, name):\n",
        "        self.name = name\n",
        "        self.cart = []\n",
        "\n",
        "    def add_to_cart(self, product, price, quantity):\n",
        "        # Fixed dictionary keys by adding quotes around 'price' and 'quantity'\n",
        "        self.cart.append({'name': product, 'price': price, 'quantity': quantity})\n",
        "\n",
        "    def checkout(self, amount):\n",
        "        total_price = 0\n",
        "        print(self.cart)\n",
        "        for item in self.cart:\n",
        "            print(item)\n",
        "            total_price += item[\"price\"] * item['quantity']\n",
        "\n",
        "        print(f\"Total price: {total_price}\")\n",
        "        if total_price <= amount:\n",
        "            print(\"Checkout successful!\")\n",
        "        else:\n",
        "            print(\"Insufficient funds.\")\n",
        "\n",
        "# Creating an instance of Shopper and adding products to the cart\n",
        "shopping = Shopper(\"Saber\")\n",
        "shopping.add_to_cart(\"shirt\", 500, 1)\n",
        "shopping.add_to_cart(\"shoes\", 1000, 2)\n",
        "shopping.add_to_cart(\"pant\", 700, 1)\n",
        "\n",
        "# Checking out with the specified amount\n",
        "shopping.checkout(5000)\n"
      ],
      "metadata": {
        "colab": {
          "base_uri": "https://localhost:8080/"
        },
        "id": "5fFRO272KLKx",
        "outputId": "7a91004c-42ad-40fc-cd84-028642ece488"
      },
      "execution_count": 33,
      "outputs": [
        {
          "output_type": "stream",
          "name": "stdout",
          "text": [
            "[{'name': 'shirt', 'price': 500, 'quantity': 1}, {'name': 'shoes', 'price': 1000, 'quantity': 2}, {'name': 'pant', 'price': 700, 'quantity': 1}]\n",
            "{'name': 'shirt', 'price': 500, 'quantity': 1}\n",
            "{'name': 'shoes', 'price': 1000, 'quantity': 2}\n",
            "{'name': 'pant', 'price': 700, 'quantity': 1}\n",
            "Total price: 3200\n",
            "Checkout successful!\n"
          ]
        }
      ]
    },
    {
      "cell_type": "code",
      "source": [
        "class student:\n",
        "  def __init__(self,name,age,roll):\n",
        "    self.name=name\n",
        "    self.age=age\n",
        "    self.roll=roll\n",
        "class course:\n",
        "  def __init__(self,name,teacher):\n",
        "    self.name=name\n",
        "    self.teacher=teacher\n",
        "class teacher:\n",
        "  def __init__(self,name,subject):\n",
        "    self.name=name\n",
        "    self.subject=subject\n",
        "\n",
        "class school:\n",
        "  def __init__(self,location,students,courses):\n",
        "\n",
        "    self.location=location\n",
        "    self.students=students\n",
        "    self.courses=courses\n",
        "\n",
        "\n",
        "school_name =\"phitron\"\n",
        "teacher_1=teacher(\"ashik\",\"python\")\n",
        "ds_course=course(\"data structure \",teacher_1)\n",
        "teacher_2=teacher(\"game\",\"pro\")\n",
        "ds_course2=course(\"python \",teacher_2)\n",
        "\n",
        "teachers=[teacher_1,teacher_2]\n",
        "courses=[ds_course,ds_course2]\n",
        "\n"
      ],
      "metadata": {
        "id": "cfiD3qaXf551"
      },
      "execution_count": 34,
      "outputs": []
    },
    {
      "cell_type": "code",
      "source": [
        "price=120\n",
        "print(type(price))\n",
        "is_rich=False\n",
        "number=[12,45,78]\n",
        "print(type(number))\n"
      ],
      "metadata": {
        "id": "_Nn4R9-DqkcL",
        "colab": {
          "base_uri": "https://localhost:8080/"
        },
        "outputId": "f2c920ad-4b75-44fc-d44f-e258e03d988f"
      },
      "execution_count": 35,
      "outputs": [
        {
          "output_type": "stream",
          "name": "stdout",
          "text": [
            "<class 'int'>\n",
            "<class 'list'>\n"
          ]
        }
      ]
    },
    {
      "cell_type": "code",
      "source": [
        "class Student:\n",
        "    def __init__(self, name, current_class, id):\n",
        "        self.name = name\n",
        "        self.id = id\n",
        "        self.current_class = current_class\n",
        "\n",
        "    def __repr__(self) -> str:\n",
        "        return f'Student with name: {self.name}, class: {self.current_class}, id:{self.id}'\n",
        "\n",
        "\n",
        "class Teacher:\n",
        "    def __init__(self, name, subject, id) -> None:\n",
        "        self.name = name\n",
        "        self.subject = subject\n",
        "        self.id = id\n",
        "\n",
        "    def __repr__(self) -> str:\n",
        "        return f'Teacher: {self.name}, subject: {self.subject}'\n",
        "\n",
        "class School:\n",
        "    def __init__(self, name) -> None:\n",
        "        self.name = name\n",
        "        self.teachers = []\n",
        "        self.students = []\n",
        "\n",
        "    def add_teacher(self, name, subject):\n",
        "        id = len(self.teachers) + 101\n",
        "        teacher = Teacher(name, subject, id)\n",
        "        self.teachers.append(teacher)\n",
        "\n",
        "    def enroll(self, name, fee):\n",
        "        if fee < 6500:\n",
        "            return 'not enough fee'\n",
        "        else:\n",
        "            id = len(self.students) + 1\n",
        "            student = Student(name, 'C', id)\n",
        "            self.students.append(student)\n",
        "            return f'{name} is enrolled with id: {id}, extra money {fee - 6500}'\n",
        "\n",
        "    def __repr__(self) -> str:\n",
        "        print('welcome to', self.name)\n",
        "        print('--------OUR Teachers--------')\n",
        "        for teacher in self.teachers:\n",
        "            print(teacher)\n",
        "        print('--------OUR STUDENTS--------')\n",
        "        for student in self.students:\n",
        "            print(student)\n",
        "        return 'All Done for now'\n",
        "\n",
        "# alia = Student('Alia Torkari', 9, 1)\n",
        "# ranbeer = Teacher('Douran beer', 'Algorithm', 101)\n",
        "# print(alia)\n",
        "# print(ranbeer)\n",
        "\n",
        "phitron = School('Phitron')\n",
        "phitron.enroll('alia', 5200)\n",
        "phitron.enroll('rani', 8000)\n",
        "phitron.enroll('aishwaraiya', 7000)\n",
        "phitron.enroll('vaijaan', 90000)\n",
        "\n",
        "phitron.add_teacher('Tom Cruise', 'Algo')\n",
        "phitron.add_teacher('Decap', 'DS')\n",
        "phitron.add_teacher('AJ', 'Database')\n",
        "\n",
        "print(phitron)"
      ],
      "metadata": {
        "colab": {
          "base_uri": "https://localhost:8080/"
        },
        "id": "vyDhI7FzD9uj",
        "outputId": "411cfb3b-5260-4328-f1f9-c811bb875ae0"
      },
      "execution_count": 36,
      "outputs": [
        {
          "output_type": "stream",
          "name": "stdout",
          "text": [
            "welcome to Phitron\n",
            "--------OUR Teachers--------\n",
            "Teacher: Tom Cruise, subject: Algo\n",
            "Teacher: Decap, subject: DS\n",
            "Teacher: AJ, subject: Database\n",
            "--------OUR STUDENTS--------\n",
            "Student with name: rani, class: C, id:1\n",
            "Student with name: aishwaraiya, class: C, id:2\n",
            "Student with name: vaijaan, class: C, id:3\n",
            "All Done for now\n"
          ]
        }
      ]
    },
    {
      "cell_type": "code",
      "source": [
        "class student:\n",
        "  def __init__(self,name,age,roll):\n",
        "    self.name=name\n",
        "    self.age=age\n",
        "    self.roll=roll\n",
        "class course:\n",
        "  def __init__(self,name,teacher):\n",
        "    self.name=name\n",
        "    self.teacher=teacher\n",
        "class teacher:\n",
        "  def __init__(self,name,subject):\n",
        "    self.name=name\n",
        "    self.subject=subject\n",
        "\n",
        "class school:\n",
        "  def __init__(self,location,students,courses):\n",
        "\n",
        "    self.location=location\n",
        "    self.students=students\n",
        "    self.courses=courses\n",
        "\n",
        "nope = student(\"saber\",12,178)\n",
        "print(nope.name)\n",
        "print(nope.age)\n",
        "print(nope.roll)\n",
        "\n"
      ],
      "metadata": {
        "colab": {
          "base_uri": "https://localhost:8080/"
        },
        "outputId": "a3ba29e4-15ff-418d-fce9-c7b986d65778",
        "id": "Kx_kH4MqGF2s"
      },
      "execution_count": 37,
      "outputs": [
        {
          "output_type": "stream",
          "name": "stdout",
          "text": [
            "saber\n",
            "12\n",
            "178\n"
          ]
        }
      ]
    },
    {
      "cell_type": "markdown",
      "source": [],
      "metadata": {
        "id": "fKIndN4TsPA3"
      }
    }
  ]
}