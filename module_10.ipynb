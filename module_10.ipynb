{
  "nbformat": 4,
  "nbformat_minor": 0,
  "metadata": {
    "colab": {
      "provenance": []
    },
    "kernelspec": {
      "name": "python3",
      "display_name": "Python 3"
    },
    "language_info": {
      "name": "python"
    }
  },
  "cells": [
    {
      "cell_type": "markdown",
      "source": [
        "\n",
        "\n",
        ">10-2 How class and object used in OOP\n",
        "\n"
      ],
      "metadata": {
        "id": "rDxPmGs6W_XU"
      }
    },
    {
      "cell_type": "code",
      "execution_count": 1,
      "metadata": {
        "id": "IDYbznHlSkOX"
      },
      "outputs": [],
      "source": [
        "class bus:\n",
        "  owner ='ena transport'\n",
        "def __init__(self,route,licence,driver):\n",
        "  self.route=route\n",
        "  self.licence=licence\n",
        "  self.driver=driver\n",
        "  self.trips=[]\n",
        "def start_trips(self,start_time):\n",
        "  self.trips.append(start_time)\n",
        "class driver:\n",
        "  def __init__(self,name,licence,salary,home):\n",
        "    self.name=name\n",
        "    self.licence=licence\n",
        "    self.salary=salarty\n",
        "    self.home=home\n",
        "  def drive(self,start,end):\n",
        "    pass\n",
        "  def take_vacation(self):\n",
        "    pass\n",
        "  def with_draw_salary(self):\n",
        "    pass\n",
        "\n",
        "class Passenger:\n",
        "  def __init__(self,name,mobile_number,location):\n",
        "\n",
        "    pass\n",
        "  def purchase_ticker(self,destination,money):\n",
        "    pass\n",
        "\n",
        "class Mananger:\n",
        "  def __init__(self,manager,mobile,department,area ):\n",
        "    pass\n",
        "class Counter:\n",
        "  def __init__(self,manager,counter):\n",
        "    pass"
      ]
    },
    {
      "cell_type": "markdown",
      "source": [
        ">10-3 Constructor and Destructor in OOP"
      ],
      "metadata": {
        "id": "adFrVFEJYlc7"
      }
    },
    {
      "cell_type": "code",
      "source": [
        "class School:\n",
        "  def __init__(self, name,adress , numberOfStudent,principle):\n",
        "    self.name = name\n",
        "    self.adress = adress\n",
        "    self.numberOfStudent = numberOfStudent\n",
        "    self.principle = principle\n",
        "    self.grade=[]\n",
        "\n",
        "\n",
        "class Grade:\n",
        "  def __init__(self,name,teacher):\n",
        "    self.student=[]\n",
        "    self.name=name\n",
        "    self.teacher=teacher\n",
        "oxford =School(\"Oxford\",\"shonir akhra\",12,'ashik')\n",
        "marks=Grade(\"A\",\"ashik\")\n",
        "# oxford.add_grade(\"A\", \"anika\")\n",
        "print(oxford.name)\n",
        "print(marks.name)"
      ],
      "metadata": {
        "colab": {
          "base_uri": "https://localhost:8080/"
        },
        "id": "O0YSKBggeNQL",
        "outputId": "fd73e909-798f-49d2-f27b-161608771411"
      },
      "execution_count": 2,
      "outputs": [
        {
          "output_type": "stream",
          "name": "stdout",
          "text": [
            "Oxford\n",
            "A\n"
          ]
        }
      ]
    },
    {
      "cell_type": "code",
      "source": [
        "class School:\n",
        "    def __init__(self, name, address, numberOfStudents, principle):\n",
        "        self.name = name\n",
        "        self.address = address\n",
        "        self.numberOfStudents = numberOfStudents\n",
        "        self.principle = principle\n",
        "\n",
        "    def add_grade(self, name, teacher):\n",
        "        self.name=name\n",
        "        self.teacher=teacher\n",
        "\n",
        "\n",
        "oxford = School(\"Oxford\", \"Shonir Akhra\", 12, \"Ashik\")\n",
        "print(oxford.name)\n",
        "print(oxford.address)\n",
        "print(oxford.numberOfStudents)\n",
        "print(oxford.principle)\n",
        "oxford.add_grade(\"A\", \"Anika\")\n",
        "\n",
        "print(so.name)\n",
        "\n"
      ],
      "metadata": {
        "colab": {
          "base_uri": "https://localhost:8080/",
          "height": 277
        },
        "id": "NWpKBJ6KYnPj",
        "outputId": "fe877168-ec54-433b-f60b-b6380f5e6651"
      },
      "execution_count": 4,
      "outputs": [
        {
          "output_type": "stream",
          "name": "stdout",
          "text": [
            "Oxford\n",
            "Shonir Akhra\n",
            "12\n",
            "Ashik\n"
          ]
        },
        {
          "output_type": "error",
          "ename": "NameError",
          "evalue": "name 'so' is not defined",
          "traceback": [
            "\u001b[0;31m---------------------------------------------------------------------------\u001b[0m",
            "\u001b[0;31mNameError\u001b[0m                                 Traceback (most recent call last)",
            "\u001b[0;32m<ipython-input-4-25a3df9ebd7e>\u001b[0m in \u001b[0;36m<cell line: 20>\u001b[0;34m()\u001b[0m\n\u001b[1;32m     18\u001b[0m \u001b[0moxford\u001b[0m\u001b[0;34m.\u001b[0m\u001b[0madd_grade\u001b[0m\u001b[0;34m(\u001b[0m\u001b[0;34m\"A\"\u001b[0m\u001b[0;34m,\u001b[0m \u001b[0;34m\"Anika\"\u001b[0m\u001b[0;34m)\u001b[0m\u001b[0;34m\u001b[0m\u001b[0;34m\u001b[0m\u001b[0m\n\u001b[1;32m     19\u001b[0m \u001b[0;34m\u001b[0m\u001b[0m\n\u001b[0;32m---> 20\u001b[0;31m \u001b[0mprint\u001b[0m\u001b[0;34m(\u001b[0m\u001b[0mso\u001b[0m\u001b[0;34m.\u001b[0m\u001b[0mname\u001b[0m\u001b[0;34m)\u001b[0m\u001b[0;34m\u001b[0m\u001b[0;34m\u001b[0m\u001b[0m\n\u001b[0m\u001b[1;32m     21\u001b[0m \u001b[0;34m\u001b[0m\u001b[0m\n",
            "\u001b[0;31mNameError\u001b[0m: name 'so' is not defined"
          ]
        }
      ]
    },
    {
      "cell_type": "code",
      "source": [
        "class School:\n",
        "    def __init__(self, name, address, numberOfStudents, principle):\n",
        "        self.name = name\n",
        "        self.address = address\n",
        "        self.numberOfStudents = numberOfStudents\n",
        "        self.principle = principle\n",
        "        self.grade=[]\n",
        "    def add_grade(self, name, teacher):\n",
        "      new_grade=grade(name,teacher)\n",
        "      self.grade.append(new_grade)\n",
        "\n",
        "class grade:\n",
        "    def __init__(self,name,teacher):\n",
        "       self.student=[]\n",
        "       self.name=name\n",
        "       self.teacher=teacher\n",
        "\n",
        "\n",
        "\n",
        "    # def __repr__(self) -> str:\n",
        "    #     return f\"{self.name} {self.teacher}\"\n",
        "\n",
        "\n",
        "\n",
        "oxford = School(\"Oxford\", \"Shonir Akhra\", 12, \"Ashik\")\n",
        "oxford.add_grade(\"class 3\", \"osman goni\")\n",
        "print(oxford.name)\n",
        "print(oxford.address)\n",
        "print(oxford.grade)\n",
        "\n"
      ],
      "metadata": {
        "id": "VmUTIpPBdgXo",
        "colab": {
          "base_uri": "https://localhost:8080/"
        },
        "outputId": "45ebdf3c-58ac-495c-fb94-7d4321b2558a"
      },
      "execution_count": 5,
      "outputs": [
        {
          "output_type": "stream",
          "name": "stdout",
          "text": [
            "Oxford\n",
            "Shonir Akhra\n",
            "[<__main__.grade object at 0x7ab570306ef0>]\n"
          ]
        }
      ]
    },
    {
      "cell_type": "code",
      "source": [
        "class School:\n",
        "    def __init__(self, name, address, numberOfStudents, principle):\n",
        "        self.name = name\n",
        "        self.address = address\n",
        "        self.numberOfStudents = numberOfStudents\n",
        "        self.principle = principle\n",
        "        self.grade=[]\n",
        "    def add_grade(self, name, teacher):\n",
        "      new_grade=grade(name,teacher)\n",
        "      self.grade.append(new_grade)\n",
        "\n",
        "class grade:\n",
        "    def __init__(self,name,teacher):\n",
        "      #  self.student=[]\n",
        "       self.name=name\n",
        "       self.teacher=teacher\n",
        "\n",
        "\n",
        "\n",
        "    def __repr__(self) -> str:\n",
        "        return f\"{self.name} {self.teacher}\"\n",
        "\n",
        "\n",
        "\n",
        "oxford = School(\"Oxford\", \"Shonir Akhra\", 12, \"Ashik\")\n",
        "oxford.add_grade(\"class 3\", \"osman goni\")\n",
        "print(oxford.name)\n",
        "print(oxford.address)\n",
        "print(oxford.grade)"
      ],
      "metadata": {
        "colab": {
          "base_uri": "https://localhost:8080/"
        },
        "id": "Tx-WuU-Umpo0",
        "outputId": "1fb53ad2-cb48-4798-8da6-f3b9fcf5ea85"
      },
      "execution_count": 6,
      "outputs": [
        {
          "output_type": "stream",
          "name": "stdout",
          "text": [
            "Oxford\n",
            "Shonir Akhra\n",
            "[class 3 osman goni]\n"
          ]
        }
      ]
    },
    {
      "cell_type": "code",
      "source": [
        "class School:\n",
        "    def __init__(self, name, address, numberOfStudents, principle):\n",
        "        self.name = name\n",
        "        self.address = address\n",
        "        self.numberOfStudents = numberOfStudents\n",
        "        self.principle = principle\n",
        "        self.grade=[]\n",
        "    def add_grade(self, name, teacher):\n",
        "      new_grade=grade(name,teacher)\n",
        "      self.grade.append(new_grade)\n",
        "    def remove_grade(self,name):\n",
        "      idx =0\n",
        "      for i, grade in enumerate(self.grade):\n",
        "        if grade.name == name:\n",
        "          idx=i\n",
        "          del self.grade[idx]\n",
        "\n",
        "\n",
        "\n",
        "class grade:\n",
        "    def __init__(self,name,teacher):\n",
        "       self.student=[]\n",
        "       self.name=name\n",
        "       self.teacher=teacher\n",
        "\n",
        "\n",
        "\n",
        "    def __repr__(self) -> str:\n",
        "        return f\"{self.name} {self.teacher}\"\n",
        "    def __del__ (self):\n",
        "      print(f\"deleting {self.name} and {self.teacher} teacher\")\n",
        "      # pass\n",
        "\n",
        "\n",
        "oxford = School(\"Oxford\", \"Shonir Akhra\", 12, \"Ashik\")\n",
        "oxford.add_grade(\"class 3\", \"osman goni\")\n",
        "oxford.add_grade(\"class 4\", \"nazma mam \")\n",
        "oxford.add_grade(\"class 5\", \"solaiman goni\")\n",
        "oxford.add_grade(\"class 6\", \"osman goni\")\n",
        "oxford.remove_grade(\"class 6\")\n",
        "print(oxford.grade)"
      ],
      "metadata": {
        "id": "OkuapBUqqmJK",
        "colab": {
          "base_uri": "https://localhost:8080/"
        },
        "outputId": "ffa2a036-b217-480e-91ed-d70c1e4f3dec"
      },
      "execution_count": 7,
      "outputs": [
        {
          "output_type": "stream",
          "name": "stdout",
          "text": [
            "deleting class 6 and osman goni teacher\n",
            "[class 3 osman goni, class 4 nazma mam , class 5 solaiman goni]\n"
          ]
        }
      ]
    },
    {
      "cell_type": "code",
      "source": [
        "import time\n",
        "class School:\n",
        "    def __init__(self, name, address, numberOfStudents, principle):\n",
        "        self.name = name\n",
        "        self.address = address\n",
        "        self.numberOfStudents = numberOfStudents\n",
        "        self.principle = principle\n",
        "        self.grade=[]\n",
        "    def add_grade(self, name, teacher):\n",
        "      new_grade=grade(name,teacher)\n",
        "      self.grade.append(new_grade)\n",
        "    def remove_grade(self,name):\n",
        "      idx =0\n",
        "      for i, grade in enumerate(self.grade):\n",
        "        if grade.name == name:\n",
        "          idx=i\n",
        "          del self.grade[idx]\n",
        "\n",
        "\n",
        "\n",
        "class grade:\n",
        "    def __init__(self,name,teacher):\n",
        "       self.student=[]\n",
        "       self.name=name\n",
        "       self.teacher=teacher\n",
        "\n",
        "\n",
        "\n",
        "    def __repr__(self) -> str:\n",
        "        return f\"{self.name} {self.teacher}\"\n",
        "    def __del__ (self):\n",
        "      print(f\"deleting {self.name} and {self.teacher} teacher\")\n",
        "      # pass\n",
        "\n",
        "\n",
        "oxford = School(\"Oxford\", \"Shonir Akhra\", 12, \"Ashik\")\n",
        "oxford.add_grade(\"class 3\", \"osman goni\")\n",
        "oxford.add_grade(\"class 4\", \"nazma mam \")\n",
        "oxford.add_grade(\"class 5\", \"solaiman goni\")\n",
        "oxford.add_grade(\"class 6\", \"osman goni\")\n",
        "oxford.remove_grade(\"class 6\")\n",
        "print(oxford.grade)\n",
        "print(\"my coding running is done\")\n",
        "time.sleep(5)\n"
      ],
      "metadata": {
        "id": "IDUxXjn94mWq",
        "colab": {
          "base_uri": "https://localhost:8080/"
        },
        "outputId": "1c77ba64-513d-42fe-f855-a53db232a988"
      },
      "execution_count": 8,
      "outputs": [
        {
          "output_type": "stream",
          "name": "stdout",
          "text": [
            "deleting class 6 and osman goni teacher\n",
            "[class 3 osman goni, class 4 nazma mam , class 5 solaiman goni]\n",
            "my coding running is done\n",
            "deleting class 5 and solaiman goni teacher\n",
            "deleting class 4 and nazma mam  teacher\n",
            "deleting class 3 and osman goni teacher\n"
          ]
        }
      ]
    },
    {
      "cell_type": "markdown",
      "source": [
        ">10-4 Common Uncommon attributes and methods between classes"
      ],
      "metadata": {
        "id": "pZ_Xtl7L5Ayb"
      }
    },
    {
      "cell_type": "code",
      "source": [
        "class Laptop:\n",
        "    def __init__(self, brand, model, price, spec):\n",
        "        self.brand = brand\n",
        "        self.model = model\n",
        "        self.price = price\n",
        "        self.spec = spec\n",
        "\n",
        "    def run(self):\n",
        "        print(\"Running the laptop\")\n",
        "\n",
        "    def purchase(self, money):\n",
        "        if self.price > money:\n",
        "            print(\"not enough money\")\n",
        "        else:\n",
        "            print(\"shit\")\n",
        "\n",
        "# Create an instance of the Laptop class\n",
        "bro = Laptop(\"Asus\", \"Core i5\", 50000, \"4GB RAM\")\n",
        "\n",
        "# Call the methods\n",
        "bro.run()  # This method doesn't take arguments\n",
        "print(bro.purchase(20000))  # This checks if you have enough money\n"
      ],
      "metadata": {
        "colab": {
          "base_uri": "https://localhost:8080/"
        },
        "id": "c8YOUo-55CIe",
        "outputId": "b71a423e-bae7-45cf-b005-ba66f4caf836"
      },
      "execution_count": 9,
      "outputs": [
        {
          "output_type": "stream",
          "name": "stdout",
          "text": [
            "Running the laptop\n",
            "not enough money\n",
            "None\n"
          ]
        }
      ]
    },
    {
      "cell_type": "code",
      "source": [
        "class Device:\n",
        "  def __init__(self,brand,price):\n",
        "    self.brand =brand\n",
        "    self.price =price\n",
        "    self.color = color\n",
        "  def re_sell(self):\n",
        "    print(\"ready to sell again\")\n",
        "\n",
        "\n",
        "\n",
        "\n",
        "class Laptop:\n",
        "    def __init__(self, brand, model, price, spec,disk_size):\n",
        "        self.brand = brand\n",
        "        self.model = model\n",
        "        self.price = price\n",
        "        self.spec = spec\n",
        "        self.disk_size=disk_size\n",
        "\n",
        "    def run(self):\n",
        "        print(\"Running the laptop\")\n",
        "\n",
        "    def purchase(self, money):\n",
        "        if self.price > money:\n",
        "            return \"Not enough money\"\n",
        "        else:\n",
        "            print( \"Purchase successful\")\n",
        "            return money-self.price\n",
        "\n",
        "\n",
        "class Phone:\n",
        "  def __init__(self,brand,price,color,camera,sim_num):\n",
        "    self.brand =brand\n",
        "    self.price=price\n",
        "    self.color=color\n",
        "    self.camera= camera\n",
        "  def duel_sim(self):\n",
        "    return self.sim_num > 1\n",
        "class watch:\n",
        "  def __init__(self,brand,color,price,watch_type ):\n",
        "    self.brand=brand\n",
        "    self.color=color\n",
        "    self.price = price\n",
        "    self.watch_type= watch_type\n",
        "\n",
        "  def is_digital (self):\n",
        "    return self.watch_type==\"DIGITAL\";\n",
        "class Manager:\n",
        "  def __init__(self,name,salary,experience,designation):\n",
        "    pass\n",
        "  def day_total_sales(self):\n",
        "    pass\n",
        "class sales_person:\n",
        "  def __init__(self,name,salary,experience,designation,commission):\n",
        "    pass\n",
        "  def with_draw_salary(self):\n",
        "    pass\n",
        "  def handle_customer_complain(self):\n",
        "    pass\n",
        "\n",
        "bro = Laptop(\"Asus\", \"Core i5\", 50000, \"4GB RAM\",\"1tb\")\n",
        "print(bro)\n",
        "bro.run()\n",
        "print(bro.purchase(70000))"
      ],
      "metadata": {
        "colab": {
          "base_uri": "https://localhost:8080/"
        },
        "id": "oNUchEOz8EqA",
        "outputId": "bbee8911-37f4-4f32-f212-559d3ba972ee"
      },
      "execution_count": 10,
      "outputs": [
        {
          "output_type": "stream",
          "name": "stdout",
          "text": [
            "<__main__.Laptop object at 0x7ab5703adba0>\n",
            "Running the laptop\n",
            "Purchase successful\n",
            "20000\n"
          ]
        }
      ]
    },
    {
      "cell_type": "markdown",
      "source": [
        ">10-5 Single Level Inheritance and use of super"
      ],
      "metadata": {
        "id": "VstKUGOpCtZt"
      }
    },
    {
      "cell_type": "code",
      "source": [
        "\n",
        "class Device:\n",
        "    def __init__(self, brand, price, color):\n",
        "        self.brand = brand\n",
        "        self.color = color\n",
        "        self.price = price\n",
        "\n",
        "    def re_sell(self):\n",
        "        print(f\" device is ready to sell again\")\n",
        "\n",
        "\n",
        "class Laptop(Device):\n",
        "    def __init__(self, brand, color, price, disk_size):\n",
        "        # super().__init__(brand, price, color)\n",
        "        self.brand=brand\n",
        "        self.color=color\n",
        "        self.price =price\n",
        "        self.disk_size = disk_size\n",
        "\n",
        "    def run(self):\n",
        "        print(\"Running the laptop\")\n",
        "\n",
        "    def __repr__(self) -> str:\n",
        "        return f\"Laptop({self.brand}: {self.price}: {self.color}: {self.disk_size})\"\n",
        "\n",
        "    def purchase(self, money, discount):\n",
        "        discounted_price = self.price - (self.price * discount / 100)\n",
        "        if money < discounted_price:\n",
        "            return \"Not enough money\"\n",
        "        else:\n",
        "            print(\"Purchase successful\")\n",
        "            return money - discounted_price  # Return the remaining money\n",
        "\n",
        "\n",
        "class Phone(Device):\n",
        "    def __init__(self, brand, price, color, camera, sim_num):\n",
        "        self.brand=brand\n",
        "        self.color=color\n",
        "        self.price =price\n",
        "        self.camera = camera\n",
        "        self.sim_num = sim_num\n",
        "\n",
        "    def __repr__(self) -> str:\n",
        "        return f\"Phone({self.brand}: {self.price}: {self.color}: {self.camera}: {self.sim_num})\"\n",
        "\n",
        "    def duel_sim(self):\n",
        "        return self.sim_num > 1\n",
        "\n",
        "\n",
        "class Watch(Device):\n",
        "    def __init__(self, brand, color, price, watch_type):\n",
        "        self.brand=brand\n",
        "        self.color=color\n",
        "        self.price =price\n",
        "        self.watch_type = watch_type\n",
        "\n",
        "    def is_digital(self):\n",
        "        return self.watch_type.upper() == \"DIGITAL\"\n",
        "\n",
        "\n",
        "class Manager:\n",
        "    def __init__(self, name, salary, experience, designation):\n",
        "        pass\n",
        "\n",
        "    def day_total_sales(self):\n",
        "        pass\n",
        "\n",
        "\n",
        "class SalesPerson:\n",
        "    def __init__(self, name, salary, experience, designation, commission):\n",
        "        pass\n",
        "\n",
        "    def with_draw_salary(self):\n",
        "        pass\n",
        "\n",
        "    def handle_customer_complain(self):\n",
        "        pass\n",
        "\n",
        "\n",
        "# Create instances and test\n",
        "bro = Laptop(\"Asus\", \"Silver\", 50000, \"1TB\")\n",
        "lanavo = Laptop(\"Lenovo\", \"Black\", 70000, \"1TB\")\n",
        "lanavo.re_sell()  # Now works because Laptop inherits from Device\n",
        "\n",
        "oppo = Phone(\"OPPO\", 15000, 'black', \"2MP\", 2)\n",
        "\n",
        "print(bro)\n",
        "print(lanavo)  # Should print details of the laptop\n",
        "print(oppo)\n",
        "\n",
        "bro.run()\n",
        "\n",
        "# Testing purchase with a discount\n",
        "hop = bro.purchase(48000, 5)\n",
        "print(hop)  # Should show remaining balance or \"Not enough money\""
      ],
      "metadata": {
        "colab": {
          "base_uri": "https://localhost:8080/"
        },
        "id": "Q1mus9U_8HgE",
        "outputId": "972f2de5-41d1-4616-f994-66bf027e4bf2"
      },
      "execution_count": 11,
      "outputs": [
        {
          "output_type": "stream",
          "name": "stdout",
          "text": [
            " device is ready to sell again\n",
            "Laptop(Asus: 50000: Silver: 1TB)\n",
            "Laptop(Lenovo: 70000: Black: 1TB)\n",
            "Phone(OPPO: 15000: black: 2MP: 2)\n",
            "Running the laptop\n",
            "Purchase successful\n",
            "500.0\n"
          ]
        }
      ]
    },
    {
      "cell_type": "code",
      "source": [
        "class Device:\n",
        "    def __init__(self, brand, price, color):\n",
        "        self.brand = brand\n",
        "        self.color = color\n",
        "        self.price = price\n",
        "\n",
        "    def re_sell(self):\n",
        "        print(f\" device is ready to sell again\")\n",
        "\n",
        "\n",
        "class Laptop(Device):\n",
        "    def __init__(self, brand, color, price, disk_size):\n",
        "        super().__init__(brand, price, color)\n",
        "        self.disk_size = disk_size\n",
        "\n",
        "    def run(self):\n",
        "        print(\"Running the laptop\")\n",
        "\n",
        "    def __repr__(self) -> str:\n",
        "        return f\"Laptop({self.brand}: {self.price}: {self.color}: {self.disk_size})\"\n",
        "\n",
        "    def purchase(self, money, discount):\n",
        "        discounted_price = self.price - (self.price * discount / 100)\n",
        "        if money < discounted_price:\n",
        "            return \"Not enough money\"\n",
        "        else:\n",
        "            print(\"Purchase successful\")\n",
        "            return money - discounted_price  # Return the remaining money\n",
        "\n",
        "\n",
        "class Phone(Device):\n",
        "    def __init__(self, brand, price, color, camera, sim_num):\n",
        "        super().__init__(brand, price, color)\n",
        "        self.camera = camera\n",
        "        self.sim_num = sim_num\n",
        "\n",
        "    def __repr__(self) -> str:\n",
        "        return f\"Phone({self.brand}: {self.price}: {self.color}: {self.camera}: {self.sim_num})\"\n",
        "\n",
        "    def duel_sim(self):\n",
        "        return self.sim_num > 1\n",
        "\n",
        "\n",
        "class Watch(Device):\n",
        "    def __init__(self, brand, color, price, watch_type):\n",
        "        super().__init__(brand, price, color)\n",
        "        self.watch_type = watch_type\n",
        "\n",
        "    def is_digital(self):\n",
        "        return self.watch_type.upper() == \"DIGITAL\"\n",
        "\n",
        "\n",
        "class Manager:\n",
        "    def __init__(self, name, salary, experience, designation):\n",
        "        pass\n",
        "\n",
        "    def day_total_sales(self):\n",
        "        pass\n",
        "\n",
        "\n",
        "class SalesPerson:\n",
        "    def __init__(self, name, salary, experience, designation, commission):\n",
        "        pass\n",
        "\n",
        "    def with_draw_salary(self):\n",
        "        pass\n",
        "\n",
        "    def handle_customer_complain(self):\n",
        "        pass\n",
        "\n",
        "\n",
        "# Create instances and test\n",
        "bro = Laptop(\"Asus\", \"Silver\", 50000, \"1TB\")\n",
        "lanavo = Laptop(\"Lenovo\", \"Black\", 70000, \"1TB\")\n",
        "lanavo.re_sell()  # Now works because Laptop inherits from Device\n",
        "\n",
        "oppo = Phone(\"OPPO\", 15000, 'black', \"2MP\", 2)\n",
        "\n",
        "print(bro)\n",
        "print(lanavo)  # Should print details of the laptop\n",
        "print(oppo)\n",
        "\n",
        "bro.run()\n",
        "\n",
        "# Testing purchase with a discount\n",
        "hop = bro.purchase(48000, 5)\n",
        "print(hop)  # Should show remaining balance or \"Not enough money\"\n"
      ],
      "metadata": {
        "colab": {
          "base_uri": "https://localhost:8080/"
        },
        "id": "Ky8nXn-mCtHe",
        "outputId": "4689d740-a6a1-452c-9515-931e44feab17"
      },
      "execution_count": 12,
      "outputs": [
        {
          "output_type": "stream",
          "name": "stdout",
          "text": [
            " device is ready to sell again\n",
            "Laptop(Asus: 50000: Silver: 1TB)\n",
            "Laptop(Lenovo: 70000: Black: 1TB)\n",
            "Phone(OPPO: 15000: black: 2MP: 2)\n",
            "Running the laptop\n",
            "Purchase successful\n",
            "500.0\n"
          ]
        }
      ]
    },
    {
      "cell_type": "code",
      "source": [
        "class Device:\n",
        "    def __init__(self, brand, price, color):\n",
        "        self.brand = brand\n",
        "        self.color = color\n",
        "        self.price = price\n",
        "\n",
        "    def re_sell(self):\n",
        "        print(f\" device is ready to sell again\")\n",
        "\n",
        "\n",
        "class Laptop(Device):\n",
        "    def __init__(self, brand, color, price, disk_size):\n",
        "        super().__init__(brand, price, color)\n",
        "        self.disk_size = disk_size\n",
        "\n",
        "    def run(self):\n",
        "        print(\"Running the laptop\")\n",
        "\n",
        "    def __repr__(self) -> str:\n",
        "        return f\"Laptop({self.brand}: {self.price}: {self.color}: {self.disk_size})\"\n",
        "\n",
        "    def purchase(self, money, discount):\n",
        "        discounted_price = self.price - (self.price * discount / 100)\n",
        "        if money < discounted_price:\n",
        "            return \"Not enough money\"\n",
        "        else:\n",
        "            print(\"Purchase successful\")\n",
        "            return money - discounted_price  # Return the remaining money\n",
        "\n",
        "so =Laptop(\"hp\",\"black\",12344,\"1tb\")\n",
        "print(so)\n",
        "so.re_sell()"
      ],
      "metadata": {
        "id": "wkoS6b-nCNk2",
        "colab": {
          "base_uri": "https://localhost:8080/"
        },
        "outputId": "f9d48c74-d2f8-4db5-a16e-51e2c2c06092"
      },
      "execution_count": 13,
      "outputs": [
        {
          "output_type": "stream",
          "name": "stdout",
          "text": [
            "Laptop(hp: 12344: black: 1tb)\n",
            " device is ready to sell again\n"
          ]
        }
      ]
    },
    {
      "cell_type": "markdown",
      "source": [
        ">10-6 Multi Level Hierarcy with Vehicle Management"
      ],
      "metadata": {
        "id": "Upfmavoe83Nc"
      }
    },
    {
      "cell_type": "code",
      "source": [
        "#parent class\n",
        "#Base class\n",
        "\n",
        "\n",
        "\n",
        "class BaseClass:\n",
        "  pass\n",
        "#clid class\n",
        "#derived class\n",
        "\n",
        "class DerivedClass(BaseClass):\n",
        "  pass\n",
        "\n",
        "#1 single Inheritance\n",
        "\n",
        "\n",
        "\n"
      ],
      "metadata": {
        "id": "H-N-WNNl5w5_"
      },
      "execution_count": 14,
      "outputs": []
    },
    {
      "cell_type": "code",
      "source": [
        "class Vehicle:\n",
        "  def __init__(self,name,license,price):\n",
        "    self.name =name\n",
        "    self.license= license\n",
        "    self.price =price\n",
        "\n",
        "  def start (self):\n",
        "    print(f\"{self.name} started\")\n",
        "\n",
        "\n",
        "\n",
        "class Bus(Vehicle):\n",
        "  def __init__(self,name,license,price,seat,ticket_price ):\n",
        "\n",
        "    self.seat=seat\n",
        "    self.available_seat =seat\n",
        "    self.ticket_price = ticket_price\n",
        "    print(\"Bus init called\")\n",
        "    super().__init__(name,license,price)\n",
        "\n",
        "  def sell_ticket(self,quantity,amount,customer_name):\n",
        "    self.available_seat -=quantity\n",
        "    remainder = amount - self.ticket_price * quantity\n",
        "    if remainder >= 0:\n",
        "      return Ticket(customer_name)\n",
        "    return \"no ticket for you\"\n",
        "class ACBus(Bus):\n",
        "  def __init__ (self):\n",
        "    pass\n",
        "class MiniBus(Bus):\n",
        "  def __init__(self):\n",
        "    print(\"this is many bus created\")\n",
        "    super().__init__(\"Mini Bus\",\"DHK1453\",124488,40,550)\n",
        "\n",
        "class Ticket:\n",
        "  def __init__(self,owner)->None:\n",
        "    self.owner = owner\n",
        "\n",
        "\n",
        "mini = MiniBus()\n",
        "print(mini.name)\n",
        "print(mini.seat)\n",
        "\n",
        "\n"
      ],
      "metadata": {
        "id": "GW8ARdoh9wLF",
        "colab": {
          "base_uri": "https://localhost:8080/"
        },
        "outputId": "81071dab-d74e-42e1-ac88-9024821f51aa"
      },
      "execution_count": 15,
      "outputs": [
        {
          "output_type": "stream",
          "name": "stdout",
          "text": [
            "this is many bus created\n",
            "Bus init called\n",
            "Mini Bus\n",
            "40\n"
          ]
        }
      ]
    },
    {
      "cell_type": "markdown",
      "source": [
        ">10-7 Multiple inheritance with school students and sports"
      ],
      "metadata": {
        "id": "r-Zhmilt2AFT"
      }
    },
    {
      "cell_type": "code",
      "source": [
        "class School:\n",
        "    def __init__(self, School_name):\n",
        "        self.School_name = School_name\n",
        "        print(\"school init called\")\n",
        "\n",
        "\n",
        "class Grade:\n",
        "    def __init__(self, grade_name):\n",
        "        self.grade_name = grade_name\n",
        "        print(\"grade class init Called\")\n",
        "\n",
        "\n",
        "\n",
        "\n",
        "class Student(School, Grade):\n",
        "    def __init__(self, name, School_name, grade_name):\n",
        "        self.name = name\n",
        "        Grade.__init__(self, grade_name)\n",
        "        School.__init__(self, School_name)\n",
        "        print('student init called')\n",
        "\n",
        "\n",
        "# Create a Sport object\n",
        "ananta_j = Student('AJ','MBA','North South')\n",
        "print(ananta_j)\n",
        "\n"
      ],
      "metadata": {
        "id": "L65PZclez6lD",
        "colab": {
          "base_uri": "https://localhost:8080/"
        },
        "outputId": "7d40ce55-5c7d-4983-e316-fa4863540e2f"
      },
      "execution_count": 16,
      "outputs": [
        {
          "output_type": "stream",
          "name": "stdout",
          "text": [
            "grade class init Called\n",
            "school init called\n",
            "student init called\n",
            "<__main__.Student object at 0x7ab5703dcbb0>\n"
          ]
        }
      ]
    },
    {
      "cell_type": "code",
      "source": [
        "class School:\n",
        "    def __init__(self, School_name):\n",
        "        self.School_name = School_name\n",
        "        print(\"school init called\")\n",
        "\n",
        "\n",
        "class Grade:\n",
        "    def __init__(self, grade_name):\n",
        "        self.grade_name = grade_name\n",
        "        print(\"grade class init Called\")\n",
        "\n",
        "\n",
        "class Sport:\n",
        "    def __init__(self, Athlete, Position):\n",
        "        self.Athlete = Athlete\n",
        "        self.Position = Position\n",
        "\n",
        "    def __repr__(self) -> str:\n",
        "        return f\"Sports he played: {self.Athlete} and his position: {self.Position}\"\n",
        "\n",
        "\n",
        "class Student(School, Grade, Sport):\n",
        "    def __init__(self, name, School_name, grade_name, Athlete, Position):\n",
        "        self.name = name\n",
        "        Grade.__init__(self, grade_name)\n",
        "        School.__init__(self, School_name)\n",
        "        Sport.__init__(self, Athlete, Position)\n",
        "        print('student init called')\n",
        "\n",
        "\n",
        "# Create a Sport object\n",
        "Game = Sport(\"football\", \"CF\")\n",
        "print(Game)\n"
      ],
      "metadata": {
        "colab": {
          "base_uri": "https://localhost:8080/"
        },
        "id": "ywnyFvpJUEmq",
        "outputId": "1034b763-2050-4db0-cc43-64b9c0b5293d"
      },
      "execution_count": 17,
      "outputs": [
        {
          "output_type": "stream",
          "name": "stdout",
          "text": [
            "Sports he played: football and his position: CF\n"
          ]
        }
      ]
    },
    {
      "cell_type": "code",
      "source": [
        "class Employee:\n",
        "  def __init__(self,name,id,salary,position):\n",
        "    self.name =name\n",
        "    self.id =id\n",
        "    self.salary =salary\n",
        "    self.position =position\n",
        "\n",
        "class Devloper(Employee):\n",
        "  def __init__(self,name,id,salary,position,tech_stack,focus):\n",
        "    super().__init__(name,id,salary,position)\n",
        "    self.tech_stack =tech_stack\n",
        "    self.focus =focus\n",
        "class Testing (Employee):\n",
        "  pass\n",
        "class sales(Employee):\n",
        "  pass\n",
        "class Manager(Employee):\n",
        "  pass\n",
        "\n"
      ],
      "metadata": {
        "id": "Nk9l-1vAyZF3"
      },
      "execution_count": 18,
      "outputs": []
    }
  ]
}