{
  "nbformat": 4,
  "nbformat_minor": 0,
  "metadata": {
    "colab": {
      "provenance": []
    },
    "kernelspec": {
      "name": "python3",
      "display_name": "Python 3"
    },
    "language_info": {
      "name": "python"
    }
  },
  "cells": [
    {
      "cell_type": "markdown",
      "source": [
        ">9-1 Introduction to dunder methods"
      ],
      "metadata": {
        "id": "VEC0Use9H0kN"
      }
    },
    {
      "cell_type": "code",
      "execution_count": 1,
      "metadata": {
        "colab": {
          "base_uri": "https://localhost:8080/"
        },
        "id": "HEssjRbvHsIc",
        "outputId": "65f47a95-f889-4874-c50f-f6f8c3d43f8b"
      },
      "outputs": [
        {
          "output_type": "stream",
          "name": "stdout",
          "text": [
            "MuhammadAli\n",
            "[1, 2, 3, 4, 5, 6, 7, 8, 9, 10]\n"
          ]
        }
      ],
      "source": [
        "num1=5\n",
        "num2=12\n",
        "# print(num1+num2)\n",
        "f_name=\"Muhammad\"\n",
        "l_name=\"Ali\"\n",
        "print(f_name+l_name)\n",
        "\n",
        "\n",
        "\n",
        "num1=[1,2,3,4,5]\n",
        "num2=[6,7,8,9,10]\n",
        "print(num1+num2)"
      ]
    },
    {
      "cell_type": "code",
      "source": [
        "class person:\n",
        "  def __init__(self,name,age,money)->None:\n",
        "    self.name=name\n",
        "    self.age=age\n",
        "    self.money=money\n",
        "alim= person(\"Muhammad Ali\",21,1000)\n",
        "dalim=person(\"muhammad\",23,1200)\n",
        "# print(alim+dalim)\n",
        "\n",
        "# alim()\n",
        "\n",
        "print(type(alim))\n",
        "print(alim.name,alim.age,alim.money)\n",
        "print(dalim.name,dalim.age,dalim.money)\n"
      ],
      "metadata": {
        "id": "Fg_cbkg9IP12",
        "colab": {
          "base_uri": "https://localhost:8080/"
        },
        "outputId": "0ef69b0f-b4ca-4ddc-bf1e-407659ffcac0"
      },
      "execution_count": 2,
      "outputs": [
        {
          "output_type": "stream",
          "name": "stdout",
          "text": [
            "<class '__main__.person'>\n",
            "Muhammad Ali 21 1000\n",
            "muhammad 23 1200\n"
          ]
        }
      ]
    },
    {
      "cell_type": "code",
      "source": [
        "class person:\n",
        "  def __init__(self,name,age,money)->None:\n",
        "    self.name=name\n",
        "    self.age=age\n",
        "    self.money=money\n",
        "\n",
        "  def __add__(self, other):\n",
        "    return self.money+ other.money\n",
        "\n",
        "alim= person(\"Muhammad Ali\",21,1000)\n",
        "dalim=person(\"muhammad\",23,1200)\n",
        "print(alim+dalim)\n"
      ],
      "metadata": {
        "colab": {
          "base_uri": "https://localhost:8080/"
        },
        "id": "bs_my76PMYKJ",
        "outputId": "19d20925-dfdb-46e3-9e25-1410097f2225"
      },
      "execution_count": 3,
      "outputs": [
        {
          "output_type": "stream",
          "name": "stdout",
          "text": [
            "2200\n"
          ]
        }
      ]
    },
    {
      "cell_type": "code",
      "source": [
        "class person:\n",
        "  def __init__(self,name,age,money)->None:\n",
        "    self.name=name\n",
        "    self.age=age\n",
        "    self.money=money\n",
        "\n",
        "  def __add__(self, other):\n",
        "    return self.age+ other.age\n",
        "\n",
        "alim= person(\"Muhammad Ali\",21,1000)\n",
        "dalim=person(\"muhammad\",23,1200)\n",
        "print(alim+dalim)"
      ],
      "metadata": {
        "colab": {
          "base_uri": "https://localhost:8080/"
        },
        "id": "k4q7-w3nM7ZD",
        "outputId": "24e8e1cc-4b7c-4b47-9db8-76829f798294"
      },
      "execution_count": 4,
      "outputs": [
        {
          "output_type": "stream",
          "name": "stdout",
          "text": [
            "44\n"
          ]
        }
      ]
    },
    {
      "cell_type": "markdown",
      "source": [
        ">9-2 add you own operator and magic methods"
      ],
      "metadata": {
        "id": "GNEwujk0NK-d"
      }
    },
    {
      "cell_type": "code",
      "source": [
        "class person:\n",
        "  def __init__(self,name,age,money)->None:\n",
        "    self.name=name\n",
        "    self.age=age\n",
        "    self.money=money\n",
        "\n",
        "  def __call__(self):\n",
        "    print( f'thw name of person is {self.name} and person age is {self.age} and how much money have {self.money}')\n",
        "alim= person(\"Muhammad Ali\",21,1000)\n",
        "dalim=person(\"muhammad\",23,1200)\n",
        "# print(alim+dalim)\n",
        "\n",
        "alim()\n"
      ],
      "metadata": {
        "colab": {
          "base_uri": "https://localhost:8080/"
        },
        "id": "Ee6DSTRSNMlW",
        "outputId": "4a0d5afa-7f45-4f33-b973-f6f40aa18972"
      },
      "execution_count": 5,
      "outputs": [
        {
          "output_type": "stream",
          "name": "stdout",
          "text": [
            "thw name of person is Muhammad Ali and person age is 21 and how much money have 1000\n"
          ]
        }
      ]
    },
    {
      "cell_type": "code",
      "source": [
        "class person:\n",
        "  def __init__(self,name,age,money)->None:\n",
        "    self.name=name\n",
        "    self.age=age\n",
        "    self.money=money\n",
        "  def __call__(self):\n",
        "    pass\n",
        "  def __add__(self,other):\n",
        "    return self.money+other.money\n",
        "alim = person(\"Muhammad Ali\",21,1000)\n",
        "dalim=person(\"muhammad\",23,1200)\n",
        "print(alim+dalim)"
      ],
      "metadata": {
        "colab": {
          "base_uri": "https://localhost:8080/"
        },
        "id": "N9THutlietfS",
        "outputId": "78dded94-1241-482e-8c62-f946a274d23b"
      },
      "execution_count": 6,
      "outputs": [
        {
          "output_type": "stream",
          "name": "stdout",
          "text": [
            "2200\n"
          ]
        }
      ]
    },
    {
      "cell_type": "code",
      "source": [
        "class person:\n",
        "  def __init__(self,name,age,money)->None:\n",
        "    self.name=name\n",
        "    self.age=age\n",
        "    self.money=money\n",
        "\n",
        "  def __call__(self):\n",
        "    print( f'thw name of person is {self.name} and person age is {self.age} and how much money have {self.money}')\n",
        "alim= person(\"Muhammad Ali\",21,1000)\n",
        "dalim=person(\"muhammad\",23,1200)\n",
        "# print(alim<dalim)"
      ],
      "metadata": {
        "id": "CXACzuhBPjcT"
      },
      "execution_count": 7,
      "outputs": []
    },
    {
      "cell_type": "code",
      "source": [
        "class person:\n",
        "  def __init__(self,name,age,money)->None:\n",
        "    self.name=name\n",
        "    self.age=age\n",
        "    self.money=money\n",
        "  def __lt__(self,other):\n",
        "    return self.age<other.age\n",
        "  def __gt__(self,other):\n",
        "    return self.age>other.age\n",
        "  def __le__(self,other):\n",
        "    return self.age<=other.age\n",
        "  def __ge__(self,other):\n",
        "    return self.age>=other.age\n",
        "\n",
        "  def __eq__(self,other):\n",
        "    return self.age==other.age\n",
        "alim= person(\"Muhammad Ali\",21,1000)\n",
        "dalim=person(\"muhammad\",23,1200)\n",
        "print('çompair to object',alim<dalim)\n",
        "print(alim>dalim)\n",
        "print(alim<=dalim)\n",
        "print(alim>=dalim)\n",
        "print(alim==dalim)"
      ],
      "metadata": {
        "colab": {
          "base_uri": "https://localhost:8080/"
        },
        "id": "1IOGqZHWPrgk",
        "outputId": "4e0e5cda-eb5d-4ca9-f4ac-40e7bc8b64e3"
      },
      "execution_count": 8,
      "outputs": [
        {
          "output_type": "stream",
          "name": "stdout",
          "text": [
            "çompair to object True\n",
            "False\n",
            "True\n",
            "False\n",
            "False\n"
          ]
        }
      ]
    },
    {
      "cell_type": "markdown",
      "source": [
        ">9-3 Use function as parameter and return function"
      ],
      "metadata": {
        "id": "LUAa2h4HjNb0"
      }
    },
    {
      "cell_type": "code",
      "source": [
        "def do_something (x,y):\n",
        "  print(f'the value of x is {x} and y is {y}')\n",
        "do_something(10,20)\n",
        "do_something(\"saber\",\"ahmed\")"
      ],
      "metadata": {
        "colab": {
          "base_uri": "https://localhost:8080/"
        },
        "id": "MEBdp0qrdcA5",
        "outputId": "220d05ed-5a75-4a81-bd1a-78ab51602578"
      },
      "execution_count": 9,
      "outputs": [
        {
          "output_type": "stream",
          "name": "stdout",
          "text": [
            "the value of x is 10 and y is 20\n",
            "the value of x is saber and y is ahmed\n"
          ]
        }
      ]
    },
    {
      "cell_type": "code",
      "source": [
        "def do_something(works):\n",
        "  print (\"not in my watch\")\n",
        "  print(works)\n",
        "  print (\"finish the work\")\n",
        "do_something(12)"
      ],
      "metadata": {
        "colab": {
          "base_uri": "https://localhost:8080/"
        },
        "id": "MqnKBZMCjglM",
        "outputId": "5d808c94-5f13-4c0c-c82e-624bb0e95c4b"
      },
      "execution_count": 10,
      "outputs": [
        {
          "output_type": "stream",
          "name": "stdout",
          "text": [
            "not in my watch\n",
            "12\n",
            "finish the work\n"
          ]
        }
      ]
    },
    {
      "cell_type": "code",
      "source": [
        "def do_something(works):\n",
        "  print (\"not in my watch\")\n",
        "\n",
        "  print (\"finish the work\")\n",
        "def coding():\n",
        "  print(\"practice makes man parfect\")\n",
        "do_something(coding)\n"
      ],
      "metadata": {
        "colab": {
          "base_uri": "https://localhost:8080/"
        },
        "id": "jZXIZUQ5l1xs",
        "outputId": "52353f93-9a42-48c9-84df-103b94821f29"
      },
      "execution_count": 11,
      "outputs": [
        {
          "output_type": "stream",
          "name": "stdout",
          "text": [
            "not in my watch\n",
            "finish the work\n"
          ]
        }
      ]
    },
    {
      "cell_type": "code",
      "source": [
        "def do_something(works):\n",
        "  print (\"not in my watch\")\n",
        "  print(works)\n",
        "  print (\"finish the work\")\n",
        "\n",
        "\n",
        "def coding():\n",
        "  print(\"practice makes man parfect\")\n",
        "do_something(coding)"
      ],
      "metadata": {
        "colab": {
          "base_uri": "https://localhost:8080/"
        },
        "id": "M5u2Lqy1p72a",
        "outputId": "92450294-a2c6-439a-a687-2b0df7b48eae"
      },
      "execution_count": 12,
      "outputs": [
        {
          "output_type": "stream",
          "name": "stdout",
          "text": [
            "not in my watch\n",
            "<function coding at 0x7aadb675e440>\n",
            "finish the work\n"
          ]
        }
      ]
    },
    {
      "cell_type": "code",
      "source": [
        "def do_something():\n",
        "  print(\"inside the function do someting \")\n",
        "  def inner_function():\n",
        "    print(\"inside the inner function\")\n",
        "  inner_function()\n",
        "do_something()\n"
      ],
      "metadata": {
        "colab": {
          "base_uri": "https://localhost:8080/"
        },
        "id": "8WigM1P_vt9g",
        "outputId": "effe22f5-04d6-4d56-ab2a-577fcc381761"
      },
      "execution_count": 13,
      "outputs": [
        {
          "output_type": "stream",
          "name": "stdout",
          "text": [
            "inside the function do someting \n",
            "inside the inner function\n"
          ]
        }
      ]
    },
    {
      "cell_type": "code",
      "source": [
        "def inside_the_first():\n",
        "  print(\"inside the first function\")\n",
        "  def inside_the_second():\n",
        "    print(\"inside the second function\")\n",
        "  return inside_the_second()\n",
        "first=inside_the_first()\n",
        "print(first)"
      ],
      "metadata": {
        "colab": {
          "base_uri": "https://localhost:8080/"
        },
        "id": "XNATSqx0xVHI",
        "outputId": "e6ab42b6-3aa1-426c-8dbe-7016aef60e2e"
      },
      "execution_count": 14,
      "outputs": [
        {
          "output_type": "stream",
          "name": "stdout",
          "text": [
            "inside the first function\n",
            "inside the second function\n",
            "None\n"
          ]
        }
      ]
    },
    {
      "cell_type": "markdown",
      "source": [
        ">9-4 Explore Decorator in python"
      ],
      "metadata": {
        "id": "Cf70aswzzei6"
      }
    },
    {
      "cell_type": "code",
      "source": [
        "def timeer(func):\n",
        "  def inner ():\n",
        "    print(\"the time start\")\n",
        "    func()\n",
        "    print(\"the time end\")\n",
        "  return inner\n",
        "def get_factorial():\n",
        "  print('get factorial')\n",
        "timeer(get_factorial)()\n"
      ],
      "metadata": {
        "colab": {
          "base_uri": "https://localhost:8080/"
        },
        "id": "Ez_o0eJ2yINE",
        "outputId": "ee22845a-e72f-4266-c40f-2d731c6207a0"
      },
      "execution_count": 15,
      "outputs": [
        {
          "output_type": "stream",
          "name": "stdout",
          "text": [
            "the time start\n",
            "get factorial\n",
            "the time end\n"
          ]
        }
      ]
    },
    {
      "cell_type": "code",
      "source": [
        "def timeer(func):\n",
        "  def inner ():\n",
        "    print(\"the time start\")\n",
        "    func()\n",
        "    print(\"the time end\")\n",
        "  return inner\n",
        "\n",
        "@timeer\n",
        "def get_factorial():\n",
        "  print('get factorial')\n",
        "get_factorial()"
      ],
      "metadata": {
        "colab": {
          "base_uri": "https://localhost:8080/"
        },
        "id": "Al6BXlUc0ay7",
        "outputId": "3875725e-e77b-4568-816a-2f6ae8ee755f"
      },
      "execution_count": 16,
      "outputs": [
        {
          "output_type": "stream",
          "name": "stdout",
          "text": [
            "the time start\n",
            "get factorial\n",
            "the time end\n"
          ]
        }
      ]
    },
    {
      "cell_type": "code",
      "source": [
        "def timeer():\n",
        "  def inner ():\n",
        "    print(\"the time start\")\n",
        "\n",
        "    print(\"the time end\")\n",
        "  return inner\n",
        "\n",
        "@timeer\n",
        "def get_factorial():\n",
        "  print('get factorial')\n",
        "get_factorial()"
      ],
      "metadata": {
        "colab": {
          "base_uri": "https://localhost:8080/",
          "height": 222
        },
        "id": "jw8l42fm60Zh",
        "outputId": "130e26f8-d866-4bc1-aaf6-af12e38ce99e"
      },
      "execution_count": 18,
      "outputs": [
        {
          "output_type": "error",
          "ename": "TypeError",
          "evalue": "timeer() takes 0 positional arguments but 1 was given",
          "traceback": [
            "\u001b[0;31m---------------------------------------------------------------------------\u001b[0m",
            "\u001b[0;31mTypeError\u001b[0m                                 Traceback (most recent call last)",
            "\u001b[0;32m<ipython-input-18-f11f167b791a>\u001b[0m in \u001b[0;36m<cell line: 8>\u001b[0;34m()\u001b[0m\n\u001b[1;32m      7\u001b[0m \u001b[0;34m\u001b[0m\u001b[0m\n\u001b[1;32m      8\u001b[0m \u001b[0;34m@\u001b[0m\u001b[0mtimeer\u001b[0m\u001b[0;34m\u001b[0m\u001b[0;34m\u001b[0m\u001b[0m\n\u001b[0;32m----> 9\u001b[0;31m \u001b[0;32mdef\u001b[0m \u001b[0mget_factorial\u001b[0m\u001b[0;34m(\u001b[0m\u001b[0;34m)\u001b[0m\u001b[0;34m:\u001b[0m\u001b[0;34m\u001b[0m\u001b[0;34m\u001b[0m\u001b[0m\n\u001b[0m\u001b[1;32m     10\u001b[0m   \u001b[0mprint\u001b[0m\u001b[0;34m(\u001b[0m\u001b[0;34m'get factorial'\u001b[0m\u001b[0;34m)\u001b[0m\u001b[0;34m\u001b[0m\u001b[0;34m\u001b[0m\u001b[0m\n\u001b[1;32m     11\u001b[0m \u001b[0mget_factorial\u001b[0m\u001b[0;34m(\u001b[0m\u001b[0;34m)\u001b[0m\u001b[0;34m\u001b[0m\u001b[0;34m\u001b[0m\u001b[0m\n",
            "\u001b[0;31mTypeError\u001b[0m: timeer() takes 0 positional arguments but 1 was given"
          ]
        }
      ]
    },
    {
      "cell_type": "code",
      "source": [
        "import math\n",
        "\n",
        "def timeer(func):\n",
        "  def inner ():\n",
        "    print(\"the time start\")\n",
        "    func()\n",
        "    print(\"the time end\")\n",
        "  return inner\n",
        "\n",
        "# @timeer\n",
        "def get_factorial(n):\n",
        "  # print('get factorial')\n",
        "  result=math.factorial(n)\n",
        "  print(f'factorial of {n} is :{result}')\n",
        "get_factorial(5)"
      ],
      "metadata": {
        "colab": {
          "base_uri": "https://localhost:8080/"
        },
        "id": "KmuPuaLz1hVo",
        "outputId": "a39338cd-9524-442d-fd2e-21407caeef1d"
      },
      "execution_count": 19,
      "outputs": [
        {
          "output_type": "stream",
          "name": "stdout",
          "text": [
            "factorial of 5 is :120\n"
          ]
        }
      ]
    },
    {
      "cell_type": "code",
      "source": [
        "import math\n",
        "\n",
        "def timeer(func):\n",
        "  def inner ():\n",
        "    print(\"the time start\")\n",
        "    func()\n",
        "    print(\"the time end\")\n",
        "  return inner\n",
        "\n",
        "@timeer\n",
        "def get_factorial(n):\n",
        "  # print('get factorial')\n",
        "  result=math.factorial(n)\n",
        "  print(f'factorial of {n} is :{result}')\n",
        "get_factorial(5)"
      ],
      "metadata": {
        "colab": {
          "base_uri": "https://localhost:8080/",
          "height": 185
        },
        "id": "5zn7KNVo2_Mx",
        "outputId": "9ab929e8-ebdf-4096-e5cd-9bc629182b3d"
      },
      "execution_count": 20,
      "outputs": [
        {
          "output_type": "error",
          "ename": "TypeError",
          "evalue": "timeer.<locals>.inner() takes 0 positional arguments but 1 was given",
          "traceback": [
            "\u001b[0;31m---------------------------------------------------------------------------\u001b[0m",
            "\u001b[0;31mTypeError\u001b[0m                                 Traceback (most recent call last)",
            "\u001b[0;32m<ipython-input-20-7114f566173f>\u001b[0m in \u001b[0;36m<cell line: 15>\u001b[0;34m()\u001b[0m\n\u001b[1;32m     13\u001b[0m   \u001b[0mresult\u001b[0m\u001b[0;34m=\u001b[0m\u001b[0mmath\u001b[0m\u001b[0;34m.\u001b[0m\u001b[0mfactorial\u001b[0m\u001b[0;34m(\u001b[0m\u001b[0mn\u001b[0m\u001b[0;34m)\u001b[0m\u001b[0;34m\u001b[0m\u001b[0;34m\u001b[0m\u001b[0m\n\u001b[1;32m     14\u001b[0m   \u001b[0mprint\u001b[0m\u001b[0;34m(\u001b[0m\u001b[0;34mf'factorial of {n} is :{result}'\u001b[0m\u001b[0;34m)\u001b[0m\u001b[0;34m\u001b[0m\u001b[0;34m\u001b[0m\u001b[0m\n\u001b[0;32m---> 15\u001b[0;31m \u001b[0mget_factorial\u001b[0m\u001b[0;34m(\u001b[0m\u001b[0;36m5\u001b[0m\u001b[0;34m)\u001b[0m\u001b[0;34m\u001b[0m\u001b[0;34m\u001b[0m\u001b[0m\n\u001b[0m",
            "\u001b[0;31mTypeError\u001b[0m: timeer.<locals>.inner() takes 0 positional arguments but 1 was given"
          ]
        }
      ]
    },
    {
      "cell_type": "code",
      "source": [
        "def timeer(func):\n",
        "  def inner (*args):\n",
        "    print(\"the time start\")\n",
        "    func(*args)\n",
        "    print(\"the time end\")\n",
        "  return inner\n",
        "\n",
        "@timeer\n",
        "def get_factorial(n):\n",
        "  # print('get factorial')\n",
        "  result=math.factorial(n)\n",
        "  print(f'factorial of {n} is :{result}')\n",
        "get_factorial(5)"
      ],
      "metadata": {
        "colab": {
          "base_uri": "https://localhost:8080/"
        },
        "id": "XsW_Wbl_5xG6",
        "outputId": "9f75c494-f21b-42ab-bd18-687fc8aecb59"
      },
      "execution_count": 21,
      "outputs": [
        {
          "output_type": "stream",
          "name": "stdout",
          "text": [
            "the time start\n",
            "factorial of 5 is :120\n",
            "the time end\n"
          ]
        }
      ]
    },
    {
      "cell_type": "code",
      "source": [
        "def timeer(func):\n",
        "  def inner (*args,**kwargs):\n",
        "    print(\"the time start\")\n",
        "    func(*args,**kwargs)\n",
        "    print(\"the time end\")\n",
        "  return inner\n",
        "\n",
        "@timeer\n",
        "def get_factorial(n):\n",
        "  # print('get factorial')\n",
        "  result=math.factorial(n)\n",
        "  print(f'factorial of {n} is :{result}')\n",
        "get_factorial(n=5)"
      ],
      "metadata": {
        "colab": {
          "base_uri": "https://localhost:8080/"
        },
        "id": "MdFyD55l4Hep",
        "outputId": "90072b26-c8a5-4ad1-d1b5-e7f35f107974"
      },
      "execution_count": 22,
      "outputs": [
        {
          "output_type": "stream",
          "name": "stdout",
          "text": [
            "the time start\n",
            "factorial of 5 is :120\n",
            "the time end\n"
          ]
        }
      ]
    },
    {
      "cell_type": "code",
      "source": [],
      "metadata": {
        "id": "P8IbueGX4wIZ"
      },
      "execution_count": null,
      "outputs": []
    },
    {
      "cell_type": "code",
      "source": [
        "\n",
        "import time\n",
        "\n",
        "def timeer(func):\n",
        "  def inner (*args,**kwargs):\n",
        "\n",
        "    start=time.time()\n",
        "    print(\"the time start\",start)\n",
        "    func(*args,**kwargs)\n",
        "\n",
        "    end =time.time()\n",
        "    print(\"the time end\", end)\n",
        "\n",
        "\n",
        "    total_time =end-start\n",
        "    print(\"total time taken :\",total_time)\n",
        "  return inner\n",
        "\n",
        "@timeer\n",
        "def get_factorial(n):\n",
        "  # print('get factorial')\n",
        "  result=math.factorial(n)\n",
        "  print(f'factorial of {n} is :{result}')\n",
        "get_factorial(n=1000)"
      ],
      "metadata": {
        "colab": {
          "base_uri": "https://localhost:8080/"
        },
        "id": "90HgTQf27pPZ",
        "outputId": "46e718d5-70ce-4216-c0d7-3bc60b6d6a6c"
      },
      "execution_count": 23,
      "outputs": [
        {
          "output_type": "stream",
          "name": "stdout",
          "text": [
            "the time start 1728793998.6417756\n",
            "factorial of 1000 is :402387260077093773543702433923003985719374864210714632543799910429938512398629020592044208486969404800479988610197196058631666872994808558901323829669944590997424504087073759918823627727188732519779505950995276120874975462497043601418278094646496291056393887437886487337119181045825783647849977012476632889835955735432513185323958463075557409114262417474349347553428646576611667797396668820291207379143853719588249808126867838374559731746136085379534524221586593201928090878297308431392844403281231558611036976801357304216168747609675871348312025478589320767169132448426236131412508780208000261683151027341827977704784635868170164365024153691398281264810213092761244896359928705114964975419909342221566832572080821333186116811553615836546984046708975602900950537616475847728421889679646244945160765353408198901385442487984959953319101723355556602139450399736280750137837615307127761926849034352625200015888535147331611702103968175921510907788019393178114194545257223865541461062892187960223838971476088506276862967146674697562911234082439208160153780889893964518263243671616762179168909779911903754031274622289988005195444414282012187361745992642956581746628302955570299024324153181617210465832036786906117260158783520751516284225540265170483304226143974286933061690897968482590125458327168226458066526769958652682272807075781391858178889652208164348344825993266043367660176999612831860788386150279465955131156552036093988180612138558600301435694527224206344631797460594682573103790084024432438465657245014402821885252470935190620929023136493273497565513958720559654228749774011413346962715422845862377387538230483865688976461927383814900140767310446640259899490222221765904339901886018566526485061799702356193897017860040811889729918311021171229845901641921068884387121855646124960798722908519296819372388642614839657382291123125024186649353143970137428531926649875337218940694281434118520158014123344828015051399694290153483077644569099073152433278288269864602789864321139083506217095002597389863554277196742822248757586765752344220207573630569498825087968928162753848863396909959826280956121450994871701244516461260379029309120889086942028510640182154399457156805941872748998094254742173582401063677404595741785160829230135358081840096996372524230560855903700624271243416909004153690105933983835777939410970027753472000000000000000000000000000000000000000000000000000000000000000000000000000000000000000000000000000000000000000000000000000000000000000000000000000000000000000000000000000000000000000000000000000000000000000000000000000000000000000000000000000000000\n",
            "the time end 1728793998.6456468\n",
            "total time taken : 0.0038712024688720703\n"
          ]
        }
      ]
    },
    {
      "cell_type": "markdown",
      "source": [
        ">9-5 Getter Setter Using Property Decorator 1-1"
      ],
      "metadata": {
        "id": "hm9r4bAu9Sbr"
      }
    },
    {
      "cell_type": "code",
      "source": [
        "class User:\n",
        "  def __init__(self,first_name,last_name):\n",
        "    self.first_name=first_name\n",
        "    self.last_name=last_name\n",
        "    self.email=f\"{first_name}.{last_name}@gmail.com\"\n",
        "mark = User(\"Mark\",\"Zuckerberg\")\n",
        "print(mark.first_name)\n",
        "print(mark.last_name)\n",
        "print(mark.email)\n"
      ],
      "metadata": {
        "colab": {
          "base_uri": "https://localhost:8080/"
        },
        "id": "6adfUUf28CMv",
        "outputId": "43992f60-fad6-4055-8801-9818530fa861"
      },
      "execution_count": 24,
      "outputs": [
        {
          "output_type": "stream",
          "name": "stdout",
          "text": [
            "Mark\n",
            "Zuckerberg\n",
            "Mark.Zuckerberg@gmail.com\n"
          ]
        }
      ]
    },
    {
      "cell_type": "code",
      "source": [
        "class User:\n",
        "  def __init__(self,first_name,last_name):\n",
        "    self.first_name=first_name\n",
        "    self.last_name=last_name\n",
        "    self.email=f\"{first_name}.{last_name}@gmail.com\"\n",
        "  def get_email(self):\n",
        "    return self.email\n",
        "\n",
        "mark = User(\"Mark\",\"Zuckerberg\")\n",
        "print(mark.first_name)\n",
        "print(mark.last_name)\n",
        "print(mark.email)\n",
        "print(mark.get_email)\n",
        "print(mark.get_email())"
      ],
      "metadata": {
        "colab": {
          "base_uri": "https://localhost:8080/"
        },
        "id": "sEaV2oa0-PNq",
        "outputId": "954d3a29-6227-4306-ad6d-54bf1be873a7"
      },
      "execution_count": 25,
      "outputs": [
        {
          "output_type": "stream",
          "name": "stdout",
          "text": [
            "Mark\n",
            "Zuckerberg\n",
            "Mark.Zuckerberg@gmail.com\n",
            "<bound method User.get_email of <__main__.User object at 0x7aadb5d91570>>\n",
            "Mark.Zuckerberg@gmail.com\n"
          ]
        }
      ]
    },
    {
      "cell_type": "code",
      "source": [
        "class User:\n",
        "  def __init__(self,first_name,last_name):\n",
        "    self.first_name=first_name\n",
        "    self.last_name=last_name\n",
        "    self.email=f\"{first_name}.{last_name}@gmail.com\"\n",
        "\n",
        "  def full_name(self):\n",
        "    return self.first_name,self.last_name\n",
        "  def get_email(self):\n",
        "    return self.email\n",
        "\n",
        "mark = User(\"Mark\",\"Zuckerberg\")\n",
        "print(mark.first_name)\n",
        "print(mark.last_name)\n",
        "print(mark.email)\n",
        "# print(mark.get_email)\n",
        "print(mark.get_email())\n",
        "print(mark.full_name())"
      ],
      "metadata": {
        "colab": {
          "base_uri": "https://localhost:8080/"
        },
        "id": "uzLiiZHj-ih9",
        "outputId": "fab6bc44-7148-4820-f1e9-f232d1082276"
      },
      "execution_count": 26,
      "outputs": [
        {
          "output_type": "stream",
          "name": "stdout",
          "text": [
            "Mark\n",
            "Zuckerberg\n",
            "Mark.Zuckerberg@gmail.com\n",
            "Mark.Zuckerberg@gmail.com\n",
            "('Mark', 'Zuckerberg')\n"
          ]
        }
      ]
    },
    {
      "cell_type": "code",
      "source": [
        "class User:\n",
        "  def __init__(self,first_name,last_name):\n",
        "    self.first_name=first_name\n",
        "    self.last_name=last_name\n",
        "    self.email=f\"{first_name}.{last_name}@gmail.com\"\n",
        "  @property\n",
        "  def full_name(self):\n",
        "    return self.first_name,self.last_name\n",
        "  @full_name.setter\n",
        "  def full_name(self,value):\n",
        "    pass\n",
        "  @property\n",
        "  def get_email(self):\n",
        "    return self.email\n",
        "\n",
        "mark = User(\"Mark\",\"Zuckerberg\")\n",
        "print(mark.first_name)\n",
        "print(mark.last_name)\n",
        "print(mark.email)\n",
        "print(mark.get_email)\n",
        "mark.full_name=\"Muhammad saber\"\n",
        "\n",
        "print(mark.full_name)"
      ],
      "metadata": {
        "colab": {
          "base_uri": "https://localhost:8080/"
        },
        "id": "Vlz8mGbCAq1C",
        "outputId": "8554b55f-bf2a-4750-fabd-26838ff3df6a"
      },
      "execution_count": 27,
      "outputs": [
        {
          "output_type": "stream",
          "name": "stdout",
          "text": [
            "Mark\n",
            "Zuckerberg\n",
            "Mark.Zuckerberg@gmail.com\n",
            "Mark.Zuckerberg@gmail.com\n",
            "('Mark', 'Zuckerberg')\n"
          ]
        }
      ]
    },
    {
      "cell_type": "code",
      "source": [
        "class User:\n",
        "    def __init__(self, first_name, last_name):\n",
        "        self.first_name = first_name\n",
        "        self.last_name = last_name\n",
        "\n",
        "    @property\n",
        "    def full_name(self):\n",
        "        return f\"{self.first_name} {self.last_name}\"\n",
        "\n",
        "    @full_name.setter\n",
        "    def full_name(self, value):\n",
        "        self.first_name = value.split()[0]\n",
        "        self.last_name = value.split()[1]\n",
        "\n",
        "    @property\n",
        "    def email(self):\n",
        "        return f\"{self.first_name}.{self.last_name}@gmail.com\"\n",
        "\n",
        "# Create an instance of User\n",
        "mark = User(\"Mark\", \"Zuckerberg\")\n",
        "\n",
        "# Access first name, last name, and email\n",
        "print(mark.first_name)  # Mark\n",
        "print(mark.last_name)   # Zuckerberg\n",
        "print(mark.email)       # Mark.Zuckerberg@gmail.com\n",
        "\n",
        "# Change full_name\n",
        "mark.full_name = \"Muhammad Saber\"\n",
        "\n",
        "# Access updated full name and email\n",
        "print(mark.full_name)   # Muhammad Saber\n",
        "print(mark.email)       # Muhammad.Saber@gmail.com\n",
        "\n",
        "\n"
      ],
      "metadata": {
        "colab": {
          "base_uri": "https://localhost:8080/"
        },
        "id": "yRuUvAUSCodp",
        "outputId": "0f8c9415-f706-43d9-aca2-a7b6b9911039"
      },
      "execution_count": 28,
      "outputs": [
        {
          "output_type": "stream",
          "name": "stdout",
          "text": [
            "Mark\n",
            "Zuckerberg\n",
            "Mark.Zuckerberg@gmail.com\n",
            "Muhammad Saber\n",
            "Muhammad.Saber@gmail.com\n"
          ]
        }
      ]
    },
    {
      "cell_type": "code",
      "source": [
        "class User:\n",
        "    def __init__(self, first_name, last_name):\n",
        "        self.first_name = first_name\n",
        "        self.last_name = last_name\n",
        "\n",
        "    @property\n",
        "    def full_name(self):\n",
        "        if hasattr(self, 'first_name') and hasattr(self, 'last_name'):\n",
        "            return f\"{self.first_name} {self.last_name}\"\n",
        "        return \"Name not available\"\n",
        "\n",
        "    @full_name.setter\n",
        "    def full_name(self, value):\n",
        "        self.first_name = value.split()[0]\n",
        "        self.last_name = value.split()[1]\n",
        "\n",
        "    @full_name.deleter\n",
        "    def full_name(self):\n",
        "        print(\"Deleting full name...\")\n",
        "        if hasattr(self, 'first_name'):\n",
        "            del self.first_name\n",
        "        if hasattr(self, 'last_name'):\n",
        "            del self.last_name\n",
        "\n",
        "    @property\n",
        "    def email(self):\n",
        "        if hasattr(self, 'first_name') and hasattr(self, 'last_name'):\n",
        "            return f\"{self.first_name}.{self.last_name}@gmail.com\"\n",
        "        return \"Email not available\"\n",
        "\n",
        "# Create an instance of User\n",
        "mark = User(\"Mark\", \"Zuckerberg\")\n",
        "\n",
        "# Access first name, last name, and email\n",
        "print(mark.first_name)  # Mark\n",
        "print(mark.last_name)   # Zuckerberg\n",
        "print(mark.email)       # Mark.Zuckerberg@gmail.com\n",
        "\n",
        "# Change full_name\n",
        "mark.full_name = \"Muhammad Saber\"\n",
        "\n",
        "# Access updated full name and email\n",
        "print(mark.full_name)   # Muhammad Saber\n",
        "print(mark.email)       # Muhammad.Saber@gmail.com\n",
        "\n",
        "# Delete full_name\n",
        "del mark.full_name\n",
        "\n",
        "# Access after deletion\n",
        "print(mark.full_name)    # Name not available\n",
        "print(mark.email)        # Email not available\n"
      ],
      "metadata": {
        "colab": {
          "base_uri": "https://localhost:8080/"
        },
        "id": "fD18lA6HHQqx",
        "outputId": "e1353bc1-16c6-4cf2-f6e0-190eebb560fb"
      },
      "execution_count": 29,
      "outputs": [
        {
          "output_type": "stream",
          "name": "stdout",
          "text": [
            "Mark\n",
            "Zuckerberg\n",
            "Mark.Zuckerberg@gmail.com\n",
            "Muhammad Saber\n",
            "Muhammad.Saber@gmail.com\n",
            "Deleting full name...\n",
            "Name not available\n",
            "Email not available\n"
          ]
        }
      ]
    },
    {
      "cell_type": "markdown",
      "source": [
        ">Explore staticmethod and classmethod decorator"
      ],
      "metadata": {
        "id": "yMxom-xIJqNL"
      }
    },
    {
      "cell_type": "code",
      "source": [],
      "metadata": {
        "id": "vIp2A9XkJpdV"
      },
      "execution_count": null,
      "outputs": []
    },
    {
      "cell_type": "markdown",
      "source": [
        "#I DIDN'T FINISH THE THIS PARTS DECODER SUCKS"
      ],
      "metadata": {
        "id": "o5Gr4OTpRcxz"
      }
    },
    {
      "cell_type": "code",
      "source": [],
      "metadata": {
        "id": "Sq7tN147RmXw"
      },
      "execution_count": null,
      "outputs": []
    }
  ]
}